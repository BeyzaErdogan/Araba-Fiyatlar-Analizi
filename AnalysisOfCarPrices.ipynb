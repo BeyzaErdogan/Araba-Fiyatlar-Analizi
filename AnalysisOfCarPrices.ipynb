{
 "cells": [
  {
   "cell_type": "code",
   "execution_count": 1,
   "metadata": {},
   "outputs": [],
   "source": [
    "#Kütüphaneler\n",
    "import pandas as pd\n",
    "import numpy as np\n",
    "import matplotlib.pyplot as plt\n",
    "import seaborn as sbn"
   ]
  },
  {
   "cell_type": "code",
   "execution_count": 2,
   "metadata": {},
   "outputs": [],
   "source": [
    "dataFrame = pd.read_excel(\"merc.xlsx\")"
   ]
  },
  {
   "cell_type": "code",
   "execution_count": 3,
   "metadata": {},
   "outputs": [
    {
     "data": {
      "text/html": [
       "<div>\n",
       "<style scoped>\n",
       "    .dataframe tbody tr th:only-of-type {\n",
       "        vertical-align: middle;\n",
       "    }\n",
       "\n",
       "    .dataframe tbody tr th {\n",
       "        vertical-align: top;\n",
       "    }\n",
       "\n",
       "    .dataframe thead th {\n",
       "        text-align: right;\n",
       "    }\n",
       "</style>\n",
       "<table border=\"1\" class=\"dataframe\">\n",
       "  <thead>\n",
       "    <tr style=\"text-align: right;\">\n",
       "      <th></th>\n",
       "      <th>year</th>\n",
       "      <th>price</th>\n",
       "      <th>transmission</th>\n",
       "      <th>mileage</th>\n",
       "      <th>tax</th>\n",
       "      <th>mpg</th>\n",
       "      <th>engineSize</th>\n",
       "    </tr>\n",
       "  </thead>\n",
       "  <tbody>\n",
       "    <tr>\n",
       "      <th>0</th>\n",
       "      <td>2005</td>\n",
       "      <td>5200</td>\n",
       "      <td>Automatic</td>\n",
       "      <td>63000</td>\n",
       "      <td>325</td>\n",
       "      <td>32.1</td>\n",
       "      <td>1.8</td>\n",
       "    </tr>\n",
       "    <tr>\n",
       "      <th>1</th>\n",
       "      <td>2017</td>\n",
       "      <td>34948</td>\n",
       "      <td>Automatic</td>\n",
       "      <td>27000</td>\n",
       "      <td>20</td>\n",
       "      <td>61.4</td>\n",
       "      <td>2.1</td>\n",
       "    </tr>\n",
       "    <tr>\n",
       "      <th>2</th>\n",
       "      <td>2016</td>\n",
       "      <td>49948</td>\n",
       "      <td>Automatic</td>\n",
       "      <td>6200</td>\n",
       "      <td>555</td>\n",
       "      <td>28.0</td>\n",
       "      <td>5.5</td>\n",
       "    </tr>\n",
       "    <tr>\n",
       "      <th>3</th>\n",
       "      <td>2016</td>\n",
       "      <td>61948</td>\n",
       "      <td>Automatic</td>\n",
       "      <td>16000</td>\n",
       "      <td>325</td>\n",
       "      <td>30.4</td>\n",
       "      <td>4.0</td>\n",
       "    </tr>\n",
       "    <tr>\n",
       "      <th>4</th>\n",
       "      <td>2016</td>\n",
       "      <td>73948</td>\n",
       "      <td>Automatic</td>\n",
       "      <td>4000</td>\n",
       "      <td>325</td>\n",
       "      <td>30.1</td>\n",
       "      <td>4.0</td>\n",
       "    </tr>\n",
       "  </tbody>\n",
       "</table>\n",
       "</div>"
      ],
      "text/plain": [
       "   year  price transmission  mileage  tax   mpg  engineSize\n",
       "0  2005   5200    Automatic    63000  325  32.1         1.8\n",
       "1  2017  34948    Automatic    27000   20  61.4         2.1\n",
       "2  2016  49948    Automatic     6200  555  28.0         5.5\n",
       "3  2016  61948    Automatic    16000  325  30.4         4.0\n",
       "4  2016  73948    Automatic     4000  325  30.1         4.0"
      ]
     },
     "execution_count": 3,
     "metadata": {},
     "output_type": "execute_result"
    }
   ],
   "source": [
    "dataFrame.head()"
   ]
  },
  {
   "cell_type": "code",
   "execution_count": 4,
   "metadata": {},
   "outputs": [
    {
     "data": {
      "text/html": [
       "<div>\n",
       "<style scoped>\n",
       "    .dataframe tbody tr th:only-of-type {\n",
       "        vertical-align: middle;\n",
       "    }\n",
       "\n",
       "    .dataframe tbody tr th {\n",
       "        vertical-align: top;\n",
       "    }\n",
       "\n",
       "    .dataframe thead th {\n",
       "        text-align: right;\n",
       "    }\n",
       "</style>\n",
       "<table border=\"1\" class=\"dataframe\">\n",
       "  <thead>\n",
       "    <tr style=\"text-align: right;\">\n",
       "      <th></th>\n",
       "      <th>year</th>\n",
       "      <th>price</th>\n",
       "      <th>mileage</th>\n",
       "      <th>tax</th>\n",
       "      <th>mpg</th>\n",
       "      <th>engineSize</th>\n",
       "    </tr>\n",
       "  </thead>\n",
       "  <tbody>\n",
       "    <tr>\n",
       "      <th>count</th>\n",
       "      <td>13119.000000</td>\n",
       "      <td>13119.000000</td>\n",
       "      <td>13119.000000</td>\n",
       "      <td>13119.000000</td>\n",
       "      <td>13119.000000</td>\n",
       "      <td>13119.000000</td>\n",
       "    </tr>\n",
       "    <tr>\n",
       "      <th>mean</th>\n",
       "      <td>2017.296288</td>\n",
       "      <td>24698.596920</td>\n",
       "      <td>21949.559037</td>\n",
       "      <td>129.972178</td>\n",
       "      <td>55.155843</td>\n",
       "      <td>2.071530</td>\n",
       "    </tr>\n",
       "    <tr>\n",
       "      <th>std</th>\n",
       "      <td>2.224709</td>\n",
       "      <td>11842.675542</td>\n",
       "      <td>21176.512267</td>\n",
       "      <td>65.260286</td>\n",
       "      <td>15.220082</td>\n",
       "      <td>0.572426</td>\n",
       "    </tr>\n",
       "    <tr>\n",
       "      <th>min</th>\n",
       "      <td>1970.000000</td>\n",
       "      <td>650.000000</td>\n",
       "      <td>1.000000</td>\n",
       "      <td>0.000000</td>\n",
       "      <td>1.100000</td>\n",
       "      <td>0.000000</td>\n",
       "    </tr>\n",
       "    <tr>\n",
       "      <th>25%</th>\n",
       "      <td>2016.000000</td>\n",
       "      <td>17450.000000</td>\n",
       "      <td>6097.500000</td>\n",
       "      <td>125.000000</td>\n",
       "      <td>45.600000</td>\n",
       "      <td>1.800000</td>\n",
       "    </tr>\n",
       "    <tr>\n",
       "      <th>50%</th>\n",
       "      <td>2018.000000</td>\n",
       "      <td>22480.000000</td>\n",
       "      <td>15189.000000</td>\n",
       "      <td>145.000000</td>\n",
       "      <td>56.500000</td>\n",
       "      <td>2.000000</td>\n",
       "    </tr>\n",
       "    <tr>\n",
       "      <th>75%</th>\n",
       "      <td>2019.000000</td>\n",
       "      <td>28980.000000</td>\n",
       "      <td>31779.500000</td>\n",
       "      <td>145.000000</td>\n",
       "      <td>64.200000</td>\n",
       "      <td>2.100000</td>\n",
       "    </tr>\n",
       "    <tr>\n",
       "      <th>max</th>\n",
       "      <td>2020.000000</td>\n",
       "      <td>159999.000000</td>\n",
       "      <td>259000.000000</td>\n",
       "      <td>580.000000</td>\n",
       "      <td>217.300000</td>\n",
       "      <td>6.200000</td>\n",
       "    </tr>\n",
       "  </tbody>\n",
       "</table>\n",
       "</div>"
      ],
      "text/plain": [
       "               year          price        mileage           tax           mpg  \\\n",
       "count  13119.000000   13119.000000   13119.000000  13119.000000  13119.000000   \n",
       "mean    2017.296288   24698.596920   21949.559037    129.972178     55.155843   \n",
       "std        2.224709   11842.675542   21176.512267     65.260286     15.220082   \n",
       "min     1970.000000     650.000000       1.000000      0.000000      1.100000   \n",
       "25%     2016.000000   17450.000000    6097.500000    125.000000     45.600000   \n",
       "50%     2018.000000   22480.000000   15189.000000    145.000000     56.500000   \n",
       "75%     2019.000000   28980.000000   31779.500000    145.000000     64.200000   \n",
       "max     2020.000000  159999.000000  259000.000000    580.000000    217.300000   \n",
       "\n",
       "         engineSize  \n",
       "count  13119.000000  \n",
       "mean       2.071530  \n",
       "std        0.572426  \n",
       "min        0.000000  \n",
       "25%        1.800000  \n",
       "50%        2.000000  \n",
       "75%        2.100000  \n",
       "max        6.200000  "
      ]
     },
     "execution_count": 4,
     "metadata": {},
     "output_type": "execute_result"
    }
   ],
   "source": [
    "dataFrame.describe()"
   ]
  },
  {
   "cell_type": "code",
   "execution_count": 5,
   "metadata": {
    "scrolled": true
   },
   "outputs": [
    {
     "data": {
      "text/plain": [
       "year            0\n",
       "price           0\n",
       "transmission    0\n",
       "mileage         0\n",
       "tax             0\n",
       "mpg             0\n",
       "engineSize      0\n",
       "dtype: int64"
      ]
     },
     "execution_count": 5,
     "metadata": {},
     "output_type": "execute_result"
    }
   ],
   "source": [
    "#Null veri kontrolü\n",
    "dataFrame.isnull().sum()"
   ]
  },
  {
   "cell_type": "code",
   "execution_count": 6,
   "metadata": {},
   "outputs": [
    {
     "name": "stderr",
     "output_type": "stream",
     "text": [
      "D:\\Anaconda\\lib\\site-packages\\seaborn\\distributions.py:2551: FutureWarning: `distplot` is a deprecated function and will be removed in a future version. Please adapt your code to use either `displot` (a figure-level function with similar flexibility) or `histplot` (an axes-level function for histograms).\n",
      "  warnings.warn(msg, FutureWarning)\n"
     ]
    },
    {
     "data": {
      "text/plain": [
       "<AxesSubplot:xlabel='price', ylabel='Density'>"
      ]
     },
     "execution_count": 6,
     "metadata": {},
     "output_type": "execute_result"
    },
    {
     "data": {
      "image/png": "[encoded data removed]",
      "text/plain": [
       "<Figure size 432x288 with 1 Axes>"
      ]
     },
     "metadata": {
      "needs_background": "light"
     },
     "output_type": "display_data"
    }
   ],
   "source": [
    "#Araba fiyatının dağılımını görmek için:\n",
    "sbn.distplot(dataFrame[\"price\"])"
   ]
  },
  {
   "cell_type": "code",
   "execution_count": 7,
   "metadata": {},
   "outputs": [
    {
     "name": "stderr",
     "output_type": "stream",
     "text": [
      "D:\\Anaconda\\lib\\site-packages\\seaborn\\_decorators.py:36: FutureWarning: Pass the following variable as a keyword arg: x. From version 0.12, the only valid positional argument will be `data`, and passing other arguments without an explicit keyword will result in an error or misinterpretation.\n",
      "  warnings.warn(\n"
     ]
    },
    {
     "data": {
      "text/plain": [
       "<AxesSubplot:xlabel='year', ylabel='count'>"
      ]
     },
     "execution_count": 7,
     "metadata": {},
     "output_type": "execute_result"
    },
    {
     "data": {
      "image/png": "[encoded data removed]",
      "text/plain": [
       "<Figure size 432x288 with 1 Axes>"
      ]
     },
     "metadata": {
      "needs_background": "light"
     },
     "output_type": "display_data"
    }
   ],
   "source": [
    "#Yıllara göre kaç tane araba olduğunu görmek için:\n",
    "sbn.countplot(dataFrame[\"year\"])"
   ]
  },
  {
   "cell_type": "code",
   "execution_count": 8,
   "metadata": {},
   "outputs": [
    {
     "data": {
      "text/html": [
       "<div>\n",
       "<style scoped>\n",
       "    .dataframe tbody tr th:only-of-type {\n",
       "        vertical-align: middle;\n",
       "    }\n",
       "\n",
       "    .dataframe tbody tr th {\n",
       "        vertical-align: top;\n",
       "    }\n",
       "\n",
       "    .dataframe thead th {\n",
       "        text-align: right;\n",
       "    }\n",
       "</style>\n",
       "<table border=\"1\" class=\"dataframe\">\n",
       "  <thead>\n",
       "    <tr style=\"text-align: right;\">\n",
       "      <th></th>\n",
       "      <th>year</th>\n",
       "      <th>price</th>\n",
       "      <th>mileage</th>\n",
       "      <th>tax</th>\n",
       "      <th>mpg</th>\n",
       "      <th>engineSize</th>\n",
       "    </tr>\n",
       "  </thead>\n",
       "  <tbody>\n",
       "    <tr>\n",
       "      <th>year</th>\n",
       "      <td>1.000000</td>\n",
       "      <td>0.520712</td>\n",
       "      <td>-0.738027</td>\n",
       "      <td>0.012480</td>\n",
       "      <td>-0.094626</td>\n",
       "      <td>-0.142147</td>\n",
       "    </tr>\n",
       "    <tr>\n",
       "      <th>price</th>\n",
       "      <td>0.520712</td>\n",
       "      <td>1.000000</td>\n",
       "      <td>-0.537214</td>\n",
       "      <td>0.268717</td>\n",
       "      <td>-0.438445</td>\n",
       "      <td>0.516126</td>\n",
       "    </tr>\n",
       "    <tr>\n",
       "      <th>mileage</th>\n",
       "      <td>-0.738027</td>\n",
       "      <td>-0.537214</td>\n",
       "      <td>1.000000</td>\n",
       "      <td>-0.160223</td>\n",
       "      <td>0.202850</td>\n",
       "      <td>0.063652</td>\n",
       "    </tr>\n",
       "    <tr>\n",
       "      <th>tax</th>\n",
       "      <td>0.012480</td>\n",
       "      <td>0.268717</td>\n",
       "      <td>-0.160223</td>\n",
       "      <td>1.000000</td>\n",
       "      <td>-0.513742</td>\n",
       "      <td>0.338341</td>\n",
       "    </tr>\n",
       "    <tr>\n",
       "      <th>mpg</th>\n",
       "      <td>-0.094626</td>\n",
       "      <td>-0.438445</td>\n",
       "      <td>0.202850</td>\n",
       "      <td>-0.513742</td>\n",
       "      <td>1.000000</td>\n",
       "      <td>-0.339862</td>\n",
       "    </tr>\n",
       "    <tr>\n",
       "      <th>engineSize</th>\n",
       "      <td>-0.142147</td>\n",
       "      <td>0.516126</td>\n",
       "      <td>0.063652</td>\n",
       "      <td>0.338341</td>\n",
       "      <td>-0.339862</td>\n",
       "      <td>1.000000</td>\n",
       "    </tr>\n",
       "  </tbody>\n",
       "</table>\n",
       "</div>"
      ],
      "text/plain": [
       "                year     price   mileage       tax       mpg  engineSize\n",
       "year        1.000000  0.520712 -0.738027  0.012480 -0.094626   -0.142147\n",
       "price       0.520712  1.000000 -0.537214  0.268717 -0.438445    0.516126\n",
       "mileage    -0.738027 -0.537214  1.000000 -0.160223  0.202850    0.063652\n",
       "tax         0.012480  0.268717 -0.160223  1.000000 -0.513742    0.338341\n",
       "mpg        -0.094626 -0.438445  0.202850 -0.513742  1.000000   -0.339862\n",
       "engineSize -0.142147  0.516126  0.063652  0.338341 -0.339862    1.000000"
      ]
     },
     "execution_count": 8,
     "metadata": {},
     "output_type": "execute_result"
    }
   ],
   "source": [
    "#Özellikler arasındaki korelasyonu görmek için:\n",
    "dataFrame.corr()"
   ]
  },
  {
   "cell_type": "code",
   "execution_count": 9,
   "metadata": {},
   "outputs": [
    {
     "data": {
      "text/plain": [
       "mileage      -0.537214\n",
       "mpg          -0.438445\n",
       "tax           0.268717\n",
       "engineSize    0.516126\n",
       "year          0.520712\n",
       "price         1.000000\n",
       "Name: price, dtype: float64"
      ]
     },
     "execution_count": 9,
     "metadata": {},
     "output_type": "execute_result"
    }
   ],
   "source": [
    "dataFrame.corr()[\"price\"].sort_values()"
   ]
  },
  {
   "cell_type": "code",
   "execution_count": 10,
   "metadata": {},
   "outputs": [
    {
     "data": {
      "text/plain": [
       "<AxesSubplot:xlabel='mileage', ylabel='price'>"
      ]
     },
     "execution_count": 10,
     "metadata": {},
     "output_type": "execute_result"
    },
    {
     "data": {
      "image/png": "[encoded data removed]",
      "text/plain": [
       "<Figure size 432x288 with 1 Axes>"
      ]
     },
     "metadata": {
      "needs_background": "light"
     },
     "output_type": "display_data"
    }
   ],
   "source": [
    "#mileage yani kilometrenin fiyata olan etkisini grafik üzerinde görmek için:\n",
    "sbn.scatterplot(x = \"mileage\",y = \"price\", data = dataFrame)"
   ]
  },
  {
   "cell_type": "code",
   "execution_count": 11,
   "metadata": {},
   "outputs": [
    {
     "data": {
      "text/html": [
       "<div>\n",
       "<style scoped>\n",
       "    .dataframe tbody tr th:only-of-type {\n",
       "        vertical-align: middle;\n",
       "    }\n",
       "\n",
       "    .dataframe tbody tr th {\n",
       "        vertical-align: top;\n",
       "    }\n",
       "\n",
       "    .dataframe thead th {\n",
       "        text-align: right;\n",
       "    }\n",
       "</style>\n",
       "<table border=\"1\" class=\"dataframe\">\n",
       "  <thead>\n",
       "    <tr style=\"text-align: right;\">\n",
       "      <th></th>\n",
       "      <th>year</th>\n",
       "      <th>price</th>\n",
       "      <th>transmission</th>\n",
       "      <th>mileage</th>\n",
       "      <th>tax</th>\n",
       "      <th>mpg</th>\n",
       "      <th>engineSize</th>\n",
       "    </tr>\n",
       "  </thead>\n",
       "  <tbody>\n",
       "    <tr>\n",
       "      <th>6199</th>\n",
       "      <td>2020</td>\n",
       "      <td>159999</td>\n",
       "      <td>Semi-Auto</td>\n",
       "      <td>1350</td>\n",
       "      <td>145</td>\n",
       "      <td>21.4</td>\n",
       "      <td>4.0</td>\n",
       "    </tr>\n",
       "    <tr>\n",
       "      <th>10044</th>\n",
       "      <td>2020</td>\n",
       "      <td>154998</td>\n",
       "      <td>Automatic</td>\n",
       "      <td>3000</td>\n",
       "      <td>150</td>\n",
       "      <td>21.4</td>\n",
       "      <td>4.0</td>\n",
       "    </tr>\n",
       "    <tr>\n",
       "      <th>5</th>\n",
       "      <td>2011</td>\n",
       "      <td>149948</td>\n",
       "      <td>Automatic</td>\n",
       "      <td>3000</td>\n",
       "      <td>570</td>\n",
       "      <td>21.4</td>\n",
       "      <td>6.2</td>\n",
       "    </tr>\n",
       "    <tr>\n",
       "      <th>8737</th>\n",
       "      <td>2019</td>\n",
       "      <td>140319</td>\n",
       "      <td>Semi-Auto</td>\n",
       "      <td>785</td>\n",
       "      <td>150</td>\n",
       "      <td>22.1</td>\n",
       "      <td>4.0</td>\n",
       "    </tr>\n",
       "    <tr>\n",
       "      <th>6386</th>\n",
       "      <td>2018</td>\n",
       "      <td>139995</td>\n",
       "      <td>Semi-Auto</td>\n",
       "      <td>13046</td>\n",
       "      <td>145</td>\n",
       "      <td>21.4</td>\n",
       "      <td>4.0</td>\n",
       "    </tr>\n",
       "    <tr>\n",
       "      <th>8</th>\n",
       "      <td>2019</td>\n",
       "      <td>139948</td>\n",
       "      <td>Automatic</td>\n",
       "      <td>12000</td>\n",
       "      <td>145</td>\n",
       "      <td>21.4</td>\n",
       "      <td>4.0</td>\n",
       "    </tr>\n",
       "    <tr>\n",
       "      <th>9133</th>\n",
       "      <td>2019</td>\n",
       "      <td>139559</td>\n",
       "      <td>Semi-Auto</td>\n",
       "      <td>1000</td>\n",
       "      <td>145</td>\n",
       "      <td>22.1</td>\n",
       "      <td>4.0</td>\n",
       "    </tr>\n",
       "    <tr>\n",
       "      <th>8821</th>\n",
       "      <td>2020</td>\n",
       "      <td>138439</td>\n",
       "      <td>Semi-Auto</td>\n",
       "      <td>1000</td>\n",
       "      <td>145</td>\n",
       "      <td>22.1</td>\n",
       "      <td>4.0</td>\n",
       "    </tr>\n",
       "    <tr>\n",
       "      <th>5902</th>\n",
       "      <td>2018</td>\n",
       "      <td>135771</td>\n",
       "      <td>Semi-Auto</td>\n",
       "      <td>19000</td>\n",
       "      <td>145</td>\n",
       "      <td>21.4</td>\n",
       "      <td>4.0</td>\n",
       "    </tr>\n",
       "    <tr>\n",
       "      <th>7864</th>\n",
       "      <td>2018</td>\n",
       "      <td>135124</td>\n",
       "      <td>Semi-Auto</td>\n",
       "      <td>18234</td>\n",
       "      <td>150</td>\n",
       "      <td>21.4</td>\n",
       "      <td>4.0</td>\n",
       "    </tr>\n",
       "    <tr>\n",
       "      <th>8673</th>\n",
       "      <td>2019</td>\n",
       "      <td>134219</td>\n",
       "      <td>Semi-Auto</td>\n",
       "      <td>1000</td>\n",
       "      <td>145</td>\n",
       "      <td>24.8</td>\n",
       "      <td>4.0</td>\n",
       "    </tr>\n",
       "    <tr>\n",
       "      <th>6210</th>\n",
       "      <td>2019</td>\n",
       "      <td>129990</td>\n",
       "      <td>Automatic</td>\n",
       "      <td>1000</td>\n",
       "      <td>145</td>\n",
       "      <td>24.8</td>\n",
       "      <td>4.0</td>\n",
       "    </tr>\n",
       "    <tr>\n",
       "      <th>4759</th>\n",
       "      <td>2019</td>\n",
       "      <td>126000</td>\n",
       "      <td>Automatic</td>\n",
       "      <td>250</td>\n",
       "      <td>145</td>\n",
       "      <td>24.6</td>\n",
       "      <td>4.0</td>\n",
       "    </tr>\n",
       "    <tr>\n",
       "      <th>2647</th>\n",
       "      <td>2019</td>\n",
       "      <td>125796</td>\n",
       "      <td>Automatic</td>\n",
       "      <td>637</td>\n",
       "      <td>145</td>\n",
       "      <td>24.8</td>\n",
       "      <td>4.0</td>\n",
       "    </tr>\n",
       "    <tr>\n",
       "      <th>6223</th>\n",
       "      <td>2019</td>\n",
       "      <td>124999</td>\n",
       "      <td>Automatic</td>\n",
       "      <td>1500</td>\n",
       "      <td>145</td>\n",
       "      <td>31.7</td>\n",
       "      <td>4.0</td>\n",
       "    </tr>\n",
       "    <tr>\n",
       "      <th>4094</th>\n",
       "      <td>2019</td>\n",
       "      <td>124366</td>\n",
       "      <td>Semi-Auto</td>\n",
       "      <td>880</td>\n",
       "      <td>145</td>\n",
       "      <td>24.8</td>\n",
       "      <td>4.0</td>\n",
       "    </tr>\n",
       "    <tr>\n",
       "      <th>2629</th>\n",
       "      <td>2019</td>\n",
       "      <td>123846</td>\n",
       "      <td>Semi-Auto</td>\n",
       "      <td>2951</td>\n",
       "      <td>145</td>\n",
       "      <td>22.1</td>\n",
       "      <td>4.0</td>\n",
       "    </tr>\n",
       "    <tr>\n",
       "      <th>7134</th>\n",
       "      <td>2019</td>\n",
       "      <td>115359</td>\n",
       "      <td>Semi-Auto</td>\n",
       "      <td>1000</td>\n",
       "      <td>145</td>\n",
       "      <td>30.1</td>\n",
       "      <td>4.0</td>\n",
       "    </tr>\n",
       "    <tr>\n",
       "      <th>9159</th>\n",
       "      <td>2019</td>\n",
       "      <td>114199</td>\n",
       "      <td>Semi-Auto</td>\n",
       "      <td>891</td>\n",
       "      <td>145</td>\n",
       "      <td>22.6</td>\n",
       "      <td>4.0</td>\n",
       "    </tr>\n",
       "    <tr>\n",
       "      <th>1980</th>\n",
       "      <td>2019</td>\n",
       "      <td>109995</td>\n",
       "      <td>Semi-Auto</td>\n",
       "      <td>4688</td>\n",
       "      <td>150</td>\n",
       "      <td>31.7</td>\n",
       "      <td>4.0</td>\n",
       "    </tr>\n",
       "  </tbody>\n",
       "</table>\n",
       "</div>"
      ],
      "text/plain": [
       "       year   price transmission  mileage  tax   mpg  engineSize\n",
       "6199   2020  159999    Semi-Auto     1350  145  21.4         4.0\n",
       "10044  2020  154998    Automatic     3000  150  21.4         4.0\n",
       "5      2011  149948    Automatic     3000  570  21.4         6.2\n",
       "8737   2019  140319    Semi-Auto      785  150  22.1         4.0\n",
       "6386   2018  139995    Semi-Auto    13046  145  21.4         4.0\n",
       "8      2019  139948    Automatic    12000  145  21.4         4.0\n",
       "9133   2019  139559    Semi-Auto     1000  145  22.1         4.0\n",
       "8821   2020  138439    Semi-Auto     1000  145  22.1         4.0\n",
       "5902   2018  135771    Semi-Auto    19000  145  21.4         4.0\n",
       "7864   2018  135124    Semi-Auto    18234  150  21.4         4.0\n",
       "8673   2019  134219    Semi-Auto     1000  145  24.8         4.0\n",
       "6210   2019  129990    Automatic     1000  145  24.8         4.0\n",
       "4759   2019  126000    Automatic      250  145  24.6         4.0\n",
       "2647   2019  125796    Automatic      637  145  24.8         4.0\n",
       "6223   2019  124999    Automatic     1500  145  31.7         4.0\n",
       "4094   2019  124366    Semi-Auto      880  145  24.8         4.0\n",
       "2629   2019  123846    Semi-Auto     2951  145  22.1         4.0\n",
       "7134   2019  115359    Semi-Auto     1000  145  30.1         4.0\n",
       "9159   2019  114199    Semi-Auto      891  145  22.6         4.0\n",
       "1980   2019  109995    Semi-Auto     4688  150  31.7         4.0"
      ]
     },
     "execution_count": 11,
     "metadata": {},
     "output_type": "execute_result"
    }
   ],
   "source": [
    "#Grafikleri incelediğimizde çok yüksek fiyatlı arabalar az bulunmakta ve bunlar model başarısını düşürebilir. Bu yüksek fiyatlı arabaları görelim:\n",
    "dataFrame.sort_values(\"price\",ascending = False).head(20)\n"
   ]
  },
  {
   "cell_type": "code",
   "execution_count": 12,
   "metadata": {},
   "outputs": [
    {
     "data": {
      "text/plain": [
       "131.19"
      ]
     },
     "execution_count": 12,
     "metadata": {},
     "output_type": "execute_result"
    }
   ],
   "source": [
    "#NOT: Bir verinin %99'unu alırsanız o verinin yansıttığı genel tabloyu bozmadan devam edebilirsiniz.\n",
    "len(dataFrame) * 0.01"
   ]
  },
  {
   "cell_type": "code",
   "execution_count": 13,
   "metadata": {},
   "outputs": [],
   "source": [
    "#En yüksek fiyatlı 131 veriyi almadan yeni verisetimize kalan verileri atalım:\n",
    "newDataFrame = dataFrame.sort_values(\"price\",ascending = False).iloc[131:]"
   ]
  },
  {
   "cell_type": "code",
   "execution_count": 14,
   "metadata": {},
   "outputs": [
    {
     "data": {
      "text/html": [
       "<div>\n",
       "<style scoped>\n",
       "    .dataframe tbody tr th:only-of-type {\n",
       "        vertical-align: middle;\n",
       "    }\n",
       "\n",
       "    .dataframe tbody tr th {\n",
       "        vertical-align: top;\n",
       "    }\n",
       "\n",
       "    .dataframe thead th {\n",
       "        text-align: right;\n",
       "    }\n",
       "</style>\n",
       "<table border=\"1\" class=\"dataframe\">\n",
       "  <thead>\n",
       "    <tr style=\"text-align: right;\">\n",
       "      <th></th>\n",
       "      <th>year</th>\n",
       "      <th>price</th>\n",
       "      <th>mileage</th>\n",
       "      <th>tax</th>\n",
       "      <th>mpg</th>\n",
       "      <th>engineSize</th>\n",
       "    </tr>\n",
       "  </thead>\n",
       "  <tbody>\n",
       "    <tr>\n",
       "      <th>count</th>\n",
       "      <td>12988.000000</td>\n",
       "      <td>12988.000000</td>\n",
       "      <td>12988.000000</td>\n",
       "      <td>12988.000000</td>\n",
       "      <td>12988.000000</td>\n",
       "      <td>12988.000000</td>\n",
       "    </tr>\n",
       "    <tr>\n",
       "      <th>mean</th>\n",
       "      <td>2017.281876</td>\n",
       "      <td>24074.926933</td>\n",
       "      <td>22132.741146</td>\n",
       "      <td>129.689714</td>\n",
       "      <td>55.437142</td>\n",
       "      <td>2.050901</td>\n",
       "    </tr>\n",
       "    <tr>\n",
       "      <th>std</th>\n",
       "      <td>2.228515</td>\n",
       "      <td>9866.224575</td>\n",
       "      <td>21196.776401</td>\n",
       "      <td>65.183076</td>\n",
       "      <td>15.025999</td>\n",
       "      <td>0.532596</td>\n",
       "    </tr>\n",
       "    <tr>\n",
       "      <th>min</th>\n",
       "      <td>1970.000000</td>\n",
       "      <td>650.000000</td>\n",
       "      <td>1.000000</td>\n",
       "      <td>0.000000</td>\n",
       "      <td>1.100000</td>\n",
       "      <td>0.000000</td>\n",
       "    </tr>\n",
       "    <tr>\n",
       "      <th>25%</th>\n",
       "      <td>2016.000000</td>\n",
       "      <td>17357.500000</td>\n",
       "      <td>6322.000000</td>\n",
       "      <td>125.000000</td>\n",
       "      <td>45.600000</td>\n",
       "      <td>1.675000</td>\n",
       "    </tr>\n",
       "    <tr>\n",
       "      <th>50%</th>\n",
       "      <td>2018.000000</td>\n",
       "      <td>22299.000000</td>\n",
       "      <td>15369.500000</td>\n",
       "      <td>145.000000</td>\n",
       "      <td>56.500000</td>\n",
       "      <td>2.000000</td>\n",
       "    </tr>\n",
       "    <tr>\n",
       "      <th>75%</th>\n",
       "      <td>2019.000000</td>\n",
       "      <td>28706.000000</td>\n",
       "      <td>31982.250000</td>\n",
       "      <td>145.000000</td>\n",
       "      <td>64.200000</td>\n",
       "      <td>2.100000</td>\n",
       "    </tr>\n",
       "    <tr>\n",
       "      <th>max</th>\n",
       "      <td>2020.000000</td>\n",
       "      <td>65990.000000</td>\n",
       "      <td>259000.000000</td>\n",
       "      <td>580.000000</td>\n",
       "      <td>217.300000</td>\n",
       "      <td>6.200000</td>\n",
       "    </tr>\n",
       "  </tbody>\n",
       "</table>\n",
       "</div>"
      ],
      "text/plain": [
       "               year         price        mileage           tax           mpg  \\\n",
       "count  12988.000000  12988.000000   12988.000000  12988.000000  12988.000000   \n",
       "mean    2017.281876  24074.926933   22132.741146    129.689714     55.437142   \n",
       "std        2.228515   9866.224575   21196.776401     65.183076     15.025999   \n",
       "min     1970.000000    650.000000       1.000000      0.000000      1.100000   \n",
       "25%     2016.000000  17357.500000    6322.000000    125.000000     45.600000   \n",
       "50%     2018.000000  22299.000000   15369.500000    145.000000     56.500000   \n",
       "75%     2019.000000  28706.000000   31982.250000    145.000000     64.200000   \n",
       "max     2020.000000  65990.000000  259000.000000    580.000000    217.300000   \n",
       "\n",
       "         engineSize  \n",
       "count  12988.000000  \n",
       "mean       2.050901  \n",
       "std        0.532596  \n",
       "min        0.000000  \n",
       "25%        1.675000  \n",
       "50%        2.000000  \n",
       "75%        2.100000  \n",
       "max        6.200000  "
      ]
     },
     "execution_count": 14,
     "metadata": {},
     "output_type": "execute_result"
    }
   ],
   "source": [
    "newDataFrame.describe()"
   ]
  },
  {
   "cell_type": "code",
   "execution_count": 15,
   "metadata": {},
   "outputs": [
    {
     "name": "stderr",
     "output_type": "stream",
     "text": [
      "D:\\Anaconda\\lib\\site-packages\\seaborn\\distributions.py:2551: FutureWarning: `distplot` is a deprecated function and will be removed in a future version. Please adapt your code to use either `displot` (a figure-level function with similar flexibility) or `histplot` (an axes-level function for histograms).\n",
      "  warnings.warn(msg, FutureWarning)\n"
     ]
    },
    {
     "data": {
      "text/plain": [
       "<AxesSubplot:xlabel='price', ylabel='Density'>"
      ]
     },
     "execution_count": 15,
     "metadata": {},
     "output_type": "execute_result"
    },
    {
     "data": {
      "image/png": "[encoded data removed]",
      "text/plain": [
       "<Figure size 432x288 with 1 Axes>"
      ]
     },
     "metadata": {
      "needs_background": "light"
     },
     "output_type": "display_data"
    }
   ],
   "source": [
    "sbn.distplot(newDataFrame[\"price\"])"
   ]
  },
  {
   "cell_type": "code",
   "execution_count": 16,
   "metadata": {},
   "outputs": [
    {
     "data": {
      "text/plain": [
       "year\n",
       "1970    24999.000000\n",
       "1997     9995.000000\n",
       "1998     8605.000000\n",
       "1999     5995.000000\n",
       "2000     5743.333333\n",
       "2001     4957.900000\n",
       "2002     5820.444444\n",
       "2003     4878.000000\n",
       "2004     4727.615385\n",
       "2005     4426.111111\n",
       "2006     4036.875000\n",
       "2007     5136.045455\n",
       "2008     6967.437500\n",
       "2009     6166.764706\n",
       "2010     8308.473684\n",
       "2011     8913.459459\n",
       "2012    10845.140351\n",
       "2013    11939.842466\n",
       "2014    14042.936864\n",
       "2015    16647.822222\n",
       "2016    19223.558943\n",
       "2017    21356.280421\n",
       "2018    24800.844506\n",
       "2019    30289.524832\n",
       "2020    34234.794872\n",
       "Name: price, dtype: float64"
      ]
     },
     "execution_count": 16,
     "metadata": {},
     "output_type": "execute_result"
    }
   ],
   "source": [
    "  newDataFrame.groupby(\"year\").mean()[\"price\"]"
   ]
  },
  {
   "cell_type": "code",
   "execution_count": 17,
   "metadata": {},
   "outputs": [
    {
     "data": {
      "text/plain": [
       "year\n",
       "1970    24999.000000\n",
       "1997     9995.000000\n",
       "1998     8605.000000\n",
       "1999     5995.000000\n",
       "2000     5743.333333\n",
       "2001     4957.900000\n",
       "2002     5820.444444\n",
       "2003     4878.000000\n",
       "2004     4727.615385\n",
       "2005     4426.111111\n",
       "2006     4036.875000\n",
       "2007     5136.045455\n",
       "2008     6967.437500\n",
       "2009     6166.764706\n",
       "2010     8308.473684\n",
       "2011    12624.894737\n",
       "2012    10845.140351\n",
       "2013    11939.842466\n",
       "2014    14042.936864\n",
       "2015    16731.780020\n",
       "2016    19307.892948\n",
       "2017    21514.307854\n",
       "2018    25720.162918\n",
       "2019    31290.020865\n",
       "2020    35433.282337\n",
       "Name: price, dtype: float64"
      ]
     },
     "execution_count": 17,
     "metadata": {},
     "output_type": "execute_result"
    }
   ],
   "source": [
    "dataFrame.groupby(\"year\").mean()[\"price\"]"
   ]
  },
  {
   "cell_type": "code",
   "execution_count": 18,
   "metadata": {},
   "outputs": [],
   "source": [
    "#1970 yılında araba fiyatı çok yüksek anormal bir şekilde. Çıkarmak için:\n",
    "dataFrame = newDataFrame[newDataFrame.year != 1970]"
   ]
  },
  {
   "cell_type": "code",
   "execution_count": 19,
   "metadata": {},
   "outputs": [
    {
     "data": {
      "text/html": [
       "<div>\n",
       "<style scoped>\n",
       "    .dataframe tbody tr th:only-of-type {\n",
       "        vertical-align: middle;\n",
       "    }\n",
       "\n",
       "    .dataframe tbody tr th {\n",
       "        vertical-align: top;\n",
       "    }\n",
       "\n",
       "    .dataframe thead th {\n",
       "        text-align: right;\n",
       "    }\n",
       "</style>\n",
       "<table border=\"1\" class=\"dataframe\">\n",
       "  <thead>\n",
       "    <tr style=\"text-align: right;\">\n",
       "      <th></th>\n",
       "      <th>year</th>\n",
       "      <th>price</th>\n",
       "      <th>mileage</th>\n",
       "      <th>tax</th>\n",
       "      <th>mpg</th>\n",
       "      <th>engineSize</th>\n",
       "    </tr>\n",
       "  </thead>\n",
       "  <tbody>\n",
       "    <tr>\n",
       "      <th>count</th>\n",
       "      <td>12987.000000</td>\n",
       "      <td>12987.000000</td>\n",
       "      <td>12987.000000</td>\n",
       "      <td>12987.000000</td>\n",
       "      <td>12987.000000</td>\n",
       "      <td>12987.000000</td>\n",
       "    </tr>\n",
       "    <tr>\n",
       "      <th>mean</th>\n",
       "      <td>2017.285516</td>\n",
       "      <td>24074.855779</td>\n",
       "      <td>22133.367367</td>\n",
       "      <td>129.676215</td>\n",
       "      <td>55.438392</td>\n",
       "      <td>2.051059</td>\n",
       "    </tr>\n",
       "    <tr>\n",
       "      <th>std</th>\n",
       "      <td>2.189633</td>\n",
       "      <td>9866.601115</td>\n",
       "      <td>21197.472376</td>\n",
       "      <td>65.167429</td>\n",
       "      <td>15.025902</td>\n",
       "      <td>0.532313</td>\n",
       "    </tr>\n",
       "    <tr>\n",
       "      <th>min</th>\n",
       "      <td>1997.000000</td>\n",
       "      <td>650.000000</td>\n",
       "      <td>1.000000</td>\n",
       "      <td>0.000000</td>\n",
       "      <td>1.100000</td>\n",
       "      <td>0.000000</td>\n",
       "    </tr>\n",
       "    <tr>\n",
       "      <th>25%</th>\n",
       "      <td>2016.000000</td>\n",
       "      <td>17355.000000</td>\n",
       "      <td>6320.000000</td>\n",
       "      <td>125.000000</td>\n",
       "      <td>45.600000</td>\n",
       "      <td>1.700000</td>\n",
       "    </tr>\n",
       "    <tr>\n",
       "      <th>50%</th>\n",
       "      <td>2018.000000</td>\n",
       "      <td>22299.000000</td>\n",
       "      <td>15371.000000</td>\n",
       "      <td>145.000000</td>\n",
       "      <td>56.500000</td>\n",
       "      <td>2.000000</td>\n",
       "    </tr>\n",
       "    <tr>\n",
       "      <th>75%</th>\n",
       "      <td>2019.000000</td>\n",
       "      <td>28706.000000</td>\n",
       "      <td>31986.500000</td>\n",
       "      <td>145.000000</td>\n",
       "      <td>64.200000</td>\n",
       "      <td>2.100000</td>\n",
       "    </tr>\n",
       "    <tr>\n",
       "      <th>max</th>\n",
       "      <td>2020.000000</td>\n",
       "      <td>65990.000000</td>\n",
       "      <td>259000.000000</td>\n",
       "      <td>580.000000</td>\n",
       "      <td>217.300000</td>\n",
       "      <td>6.200000</td>\n",
       "    </tr>\n",
       "  </tbody>\n",
       "</table>\n",
       "</div>"
      ],
      "text/plain": [
       "               year         price        mileage           tax           mpg  \\\n",
       "count  12987.000000  12987.000000   12987.000000  12987.000000  12987.000000   \n",
       "mean    2017.285516  24074.855779   22133.367367    129.676215     55.438392   \n",
       "std        2.189633   9866.601115   21197.472376     65.167429     15.025902   \n",
       "min     1997.000000    650.000000       1.000000      0.000000      1.100000   \n",
       "25%     2016.000000  17355.000000    6320.000000    125.000000     45.600000   \n",
       "50%     2018.000000  22299.000000   15371.000000    145.000000     56.500000   \n",
       "75%     2019.000000  28706.000000   31986.500000    145.000000     64.200000   \n",
       "max     2020.000000  65990.000000  259000.000000    580.000000    217.300000   \n",
       "\n",
       "         engineSize  \n",
       "count  12987.000000  \n",
       "mean       2.051059  \n",
       "std        0.532313  \n",
       "min        0.000000  \n",
       "25%        1.700000  \n",
       "50%        2.000000  \n",
       "75%        2.100000  \n",
       "max        6.200000  "
      ]
     },
     "execution_count": 19,
     "metadata": {},
     "output_type": "execute_result"
    }
   ],
   "source": [
    "dataFrame.describe()"
   ]
  },
  {
   "cell_type": "code",
   "execution_count": 20,
   "metadata": {},
   "outputs": [],
   "source": [
    "#Veri setimizde kategorik bir sütun vardır bunu kaldırmak istiyorum. O yüzden:\n",
    "dataFrame = dataFrame.drop(\"transmission\",axis=1)"
   ]
  },
  {
   "cell_type": "code",
   "execution_count": 21,
   "metadata": {},
   "outputs": [
    {
     "data": {
      "text/html": [
       "<div>\n",
       "<style scoped>\n",
       "    .dataframe tbody tr th:only-of-type {\n",
       "        vertical-align: middle;\n",
       "    }\n",
       "\n",
       "    .dataframe tbody tr th {\n",
       "        vertical-align: top;\n",
       "    }\n",
       "\n",
       "    .dataframe thead th {\n",
       "        text-align: right;\n",
       "    }\n",
       "</style>\n",
       "<table border=\"1\" class=\"dataframe\">\n",
       "  <thead>\n",
       "    <tr style=\"text-align: right;\">\n",
       "      <th></th>\n",
       "      <th>year</th>\n",
       "      <th>price</th>\n",
       "      <th>mileage</th>\n",
       "      <th>tax</th>\n",
       "      <th>mpg</th>\n",
       "      <th>engineSize</th>\n",
       "    </tr>\n",
       "  </thead>\n",
       "  <tbody>\n",
       "    <tr>\n",
       "      <th>6177</th>\n",
       "      <td>2019</td>\n",
       "      <td>65990</td>\n",
       "      <td>5076</td>\n",
       "      <td>150</td>\n",
       "      <td>30.4</td>\n",
       "      <td>3.0</td>\n",
       "    </tr>\n",
       "    <tr>\n",
       "      <th>5779</th>\n",
       "      <td>2020</td>\n",
       "      <td>65990</td>\n",
       "      <td>999</td>\n",
       "      <td>145</td>\n",
       "      <td>28.0</td>\n",
       "      <td>4.0</td>\n",
       "    </tr>\n",
       "    <tr>\n",
       "      <th>3191</th>\n",
       "      <td>2020</td>\n",
       "      <td>65980</td>\n",
       "      <td>3999</td>\n",
       "      <td>145</td>\n",
       "      <td>28.0</td>\n",
       "      <td>4.0</td>\n",
       "    </tr>\n",
       "    <tr>\n",
       "      <th>4727</th>\n",
       "      <td>2019</td>\n",
       "      <td>65000</td>\n",
       "      <td>3398</td>\n",
       "      <td>145</td>\n",
       "      <td>27.2</td>\n",
       "      <td>4.0</td>\n",
       "    </tr>\n",
       "    <tr>\n",
       "      <th>8814</th>\n",
       "      <td>2019</td>\n",
       "      <td>64999</td>\n",
       "      <td>119</td>\n",
       "      <td>145</td>\n",
       "      <td>40.9</td>\n",
       "      <td>3.0</td>\n",
       "    </tr>\n",
       "  </tbody>\n",
       "</table>\n",
       "</div>"
      ],
      "text/plain": [
       "      year  price  mileage  tax   mpg  engineSize\n",
       "6177  2019  65990     5076  150  30.4         3.0\n",
       "5779  2020  65990      999  145  28.0         4.0\n",
       "3191  2020  65980     3999  145  28.0         4.0\n",
       "4727  2019  65000     3398  145  27.2         4.0\n",
       "8814  2019  64999      119  145  40.9         3.0"
      ]
     },
     "execution_count": 21,
     "metadata": {},
     "output_type": "execute_result"
    }
   ],
   "source": [
    "dataFrame.head()"
   ]
  },
  {
   "cell_type": "code",
   "execution_count": 22,
   "metadata": {},
   "outputs": [],
   "source": [
    "y = dataFrame[\"price\"].values\n",
    "x = dataFrame.drop(\"price\",axis=1).values"
   ]
  },
  {
   "cell_type": "code",
   "execution_count": 23,
   "metadata": {},
   "outputs": [
    {
     "data": {
      "text/plain": [
       "array([65990, 65990, 65980, ...,  1490,  1350,   650], dtype=int64)"
      ]
     },
     "execution_count": 23,
     "metadata": {},
     "output_type": "execute_result"
    }
   ],
   "source": [
    "y"
   ]
  },
  {
   "cell_type": "code",
   "execution_count": 24,
   "metadata": {},
   "outputs": [
    {
     "data": {
      "text/plain": [
       "array([[2.01900e+03, 5.07600e+03, 1.50000e+02, 3.04000e+01, 3.00000e+00],\n",
       "       [2.02000e+03, 9.99000e+02, 1.45000e+02, 2.80000e+01, 4.00000e+00],\n",
       "       [2.02000e+03, 3.99900e+03, 1.45000e+02, 2.80000e+01, 4.00000e+00],\n",
       "       ...,\n",
       "       [2.00000e+03, 8.70000e+04, 2.65000e+02, 2.72000e+01, 3.20000e+00],\n",
       "       [2.01000e+03, 1.16126e+05, 1.45000e+02, 5.43000e+01, 2.00000e+00],\n",
       "       [2.00300e+03, 1.09090e+05, 2.35000e+02, 4.00000e+01, 1.40000e+00]])"
      ]
     },
     "execution_count": 24,
     "metadata": {},
     "output_type": "execute_result"
    }
   ],
   "source": [
    "x"
   ]
  },
  {
   "cell_type": "code",
   "execution_count": 25,
   "metadata": {},
   "outputs": [],
   "source": [
    "from sklearn.model_selection import train_test_split"
   ]
  },
  {
   "cell_type": "code",
   "execution_count": 26,
   "metadata": {},
   "outputs": [],
   "source": [
    "x_train, x_test,y_train,y_test = train_test_split(x,y,test_size=0.3,random_state=10)"
   ]
  },
  {
   "cell_type": "code",
   "execution_count": 27,
   "metadata": {},
   "outputs": [
    {
     "data": {
      "text/plain": [
       "9090"
      ]
     },
     "execution_count": 27,
     "metadata": {},
     "output_type": "execute_result"
    }
   ],
   "source": [
    "len(x_train)"
   ]
  },
  {
   "cell_type": "code",
   "execution_count": 28,
   "metadata": {},
   "outputs": [
    {
     "data": {
      "text/plain": [
       "3897"
      ]
     },
     "execution_count": 28,
     "metadata": {},
     "output_type": "execute_result"
    }
   ],
   "source": [
    "len(x_test)"
   ]
  },
  {
   "cell_type": "code",
   "execution_count": 29,
   "metadata": {},
   "outputs": [],
   "source": [
    "from sklearn.preprocessing import MinMaxScaler"
   ]
  },
  {
   "cell_type": "code",
   "execution_count": 30,
   "metadata": {},
   "outputs": [],
   "source": [
    "scaler = MinMaxScaler()"
   ]
  },
  {
   "cell_type": "code",
   "execution_count": 31,
   "metadata": {},
   "outputs": [],
   "source": [
    "x_train = scaler.fit_transform(x_train)"
   ]
  },
  {
   "cell_type": "code",
   "execution_count": 32,
   "metadata": {},
   "outputs": [],
   "source": [
    "x_test = scaler.transform(x_test)"
   ]
  },
  {
   "cell_type": "code",
   "execution_count": 33,
   "metadata": {},
   "outputs": [],
   "source": [
    "from tensorflow.keras.models import Sequential\n",
    "from tensorflow.keras.layers import Dense"
   ]
  },
  {
   "cell_type": "code",
   "execution_count": 34,
   "metadata": {},
   "outputs": [
    {
     "data": {
      "text/plain": [
       "(9090, 5)"
      ]
     },
     "execution_count": 34,
     "metadata": {},
     "output_type": "execute_result"
    }
   ],
   "source": [
    "x_train.shape"
   ]
  },
  {
   "cell_type": "code",
   "execution_count": 35,
   "metadata": {},
   "outputs": [],
   "source": [
    "model = Sequential()\n",
    "\n",
    "model.add(Dense(12,activation = \"relu\"))\n",
    "model.add(Dense(12,activation = \"relu\"))\n",
    "model.add(Dense(12,activation = \"relu\"))\n",
    "model.add(Dense(12,activation = \"relu\"))\n",
    "#çıkış katmanı:\n",
    "model.add(Dense(1)) \n",
    "\n",
    "model.compile(optimizer=\"adam\",loss=\"mse\")"
   ]
  },
  {
   "cell_type": "code",
   "execution_count": 36,
   "metadata": {},
   "outputs": [
    {
     "name": "stdout",
     "output_type": "stream",
     "text": [
      "Epoch 1/300\n",
      "37/37 [==============================] - 0s 12ms/step - loss: 672144384.0000 - val_loss: 688101248.0000\n",
      "Epoch 2/300\n",
      "37/37 [==============================] - 0s 7ms/step - loss: 672117632.0000 - val_loss: 688051392.0000\n",
      "Epoch 3/300\n",
      "37/37 [==============================] - 0s 6ms/step - loss: 672016000.0000 - val_loss: 687861376.0000\n",
      "Epoch 4/300\n",
      "37/37 [==============================] - 0s 5ms/step - loss: 671676736.0000 - val_loss: 687290752.0000\n",
      "Epoch 5/300\n",
      "37/37 [==============================] - 0s 5ms/step - loss: 670760384.0000 - val_loss: 685856192.0000\n",
      "Epoch 6/300\n",
      "37/37 [==============================] - 0s 5ms/step - loss: 668607680.0000 - val_loss: 682666432.0000\n",
      "Epoch 7/300\n",
      "37/37 [==============================] - 0s 5ms/step - loss: 664118912.0000 - val_loss: 676339200.0000\n",
      "Epoch 8/300\n",
      "37/37 [==============================] - 0s 5ms/step - loss: 655644352.0000 - val_loss: 664856512.0000\n",
      "Epoch 9/300\n",
      "37/37 [==============================] - 0s 5ms/step - loss: 640796672.0000 - val_loss: 645387008.0000\n",
      "Epoch 10/300\n",
      "37/37 [==============================] - 0s 5ms/step - loss: 616677120.0000 - val_loss: 615022400.0000\n",
      "Epoch 11/300\n",
      "37/37 [==============================] - 0s 5ms/step - loss: 580430464.0000 - val_loss: 570839808.0000\n",
      "Epoch 12/300\n",
      "37/37 [==============================] - 0s 5ms/step - loss: 529677376.0000 - val_loss: 511173504.0000\n",
      "Epoch 13/300\n",
      "37/37 [==============================] - 0s 5ms/step - loss: 463785120.0000 - val_loss: 436865888.0000\n",
      "Epoch 14/300\n",
      "37/37 [==============================] - 0s 3ms/step - loss: 385259584.0000 - val_loss: 352206272.0000\n",
      "Epoch 15/300\n",
      "37/37 [==============================] - 0s 3ms/step - loss: 300719008.0000 - val_loss: 266592960.0000\n",
      "Epoch 16/300\n",
      "37/37 [==============================] - 0s 5ms/step - loss: 221305280.0000 - val_loss: 191774160.0000\n",
      "Epoch 17/300\n",
      "37/37 [==============================] - 0s 5ms/step - loss: 158070176.0000 - val_loss: 138849408.0000\n",
      "Epoch 18/300\n",
      "37/37 [==============================] - 0s 5ms/step - loss: 118452072.0000 - val_loss: 109280232.0000\n",
      "Epoch 19/300\n",
      "37/37 [==============================] - 0s 5ms/step - loss: 99187416.0000 - val_loss: 96954496.0000\n",
      "Epoch 20/300\n",
      "37/37 [==============================] - 0s 5ms/step - loss: 92252808.0000 - val_loss: 92835968.0000\n",
      "Epoch 21/300\n",
      "37/37 [==============================] - 0s 5ms/step - loss: 90092144.0000 - val_loss: 91390440.0000\n",
      "Epoch 22/300\n",
      "37/37 [==============================] - 0s 4ms/step - loss: 89209608.0000 - val_loss: 90613608.0000\n",
      "Epoch 23/300\n",
      "37/37 [==============================] - 0s 4ms/step - loss: 88614600.0000 - val_loss: 89982256.0000\n",
      "Epoch 24/300\n",
      "37/37 [==============================] - 0s 4ms/step - loss: 88076224.0000 - val_loss: 89469864.0000\n",
      "Epoch 25/300\n",
      "37/37 [==============================] - 0s 4ms/step - loss: 87578896.0000 - val_loss: 88978088.0000\n",
      "Epoch 26/300\n",
      "37/37 [==============================] - 0s 4ms/step - loss: 87099880.0000 - val_loss: 88506632.0000\n",
      "Epoch 27/300\n",
      "37/37 [==============================] - 0s 5ms/step - loss: 86632920.0000 - val_loss: 88051896.0000\n",
      "Epoch 28/300\n",
      "37/37 [==============================] - 0s 5ms/step - loss: 86178952.0000 - val_loss: 87593632.0000\n",
      "Epoch 29/300\n",
      "37/37 [==============================] - 0s 6ms/step - loss: 85731528.0000 - val_loss: 87142352.0000\n",
      "Epoch 30/300\n",
      "37/37 [==============================] - 0s 5ms/step - loss: 85295128.0000 - val_loss: 86741544.0000\n",
      "Epoch 31/300\n",
      "37/37 [==============================] - 0s 4ms/step - loss: 84863264.0000 - val_loss: 86281664.0000\n",
      "Epoch 32/300\n",
      "37/37 [==============================] - 0s 5ms/step - loss: 84439360.0000 - val_loss: 85858432.0000\n",
      "Epoch 33/300\n",
      "37/37 [==============================] - 0s 4ms/step - loss: 84027144.0000 - val_loss: 85457936.0000\n",
      "Epoch 34/300\n",
      "37/37 [==============================] - 0s 4ms/step - loss: 83600936.0000 - val_loss: 85019736.0000\n",
      "Epoch 35/300\n",
      "37/37 [==============================] - 0s 4ms/step - loss: 83186008.0000 - val_loss: 84629712.0000\n",
      "Epoch 36/300\n",
      "37/37 [==============================] - 0s 4ms/step - loss: 82787856.0000 - val_loss: 84229024.0000\n",
      "Epoch 37/300\n",
      "37/37 [==============================] - 0s 4ms/step - loss: 82378224.0000 - val_loss: 83825216.0000\n",
      "Epoch 38/300\n",
      "37/37 [==============================] - 0s 4ms/step - loss: 81967824.0000 - val_loss: 83415376.0000\n",
      "Epoch 39/300\n",
      "37/37 [==============================] - 0s 4ms/step - loss: 81566176.0000 - val_loss: 83005040.0000\n",
      "Epoch 40/300\n",
      "37/37 [==============================] - 0s 4ms/step - loss: 81160144.0000 - val_loss: 82620144.0000\n",
      "Epoch 41/300\n",
      "37/37 [==============================] - 0s 4ms/step - loss: 80772232.0000 - val_loss: 82237992.0000\n",
      "Epoch 42/300\n",
      "37/37 [==============================] - 0s 4ms/step - loss: 80364824.0000 - val_loss: 81844136.0000\n",
      "Epoch 43/300\n",
      "37/37 [==============================] - 0s 5ms/step - loss: 79967344.0000 - val_loss: 81450376.0000\n",
      "Epoch 44/300\n",
      "37/37 [==============================] - 0s 5ms/step - loss: 79576616.0000 - val_loss: 81043552.0000\n",
      "Epoch 45/300\n",
      "37/37 [==============================] - 0s 6ms/step - loss: 79170464.0000 - val_loss: 80665856.0000\n",
      "Epoch 46/300\n",
      "37/37 [==============================] - 0s 7ms/step - loss: 78775640.0000 - val_loss: 80257960.0000\n",
      "Epoch 47/300\n",
      "37/37 [==============================] - 0s 2ms/step - loss: 78378392.0000 - val_loss: 79843856.0000\n",
      "Epoch 48/300\n",
      "37/37 [==============================] - 0s 2ms/step - loss: 77978680.0000 - val_loss: 79493480.0000\n",
      "Epoch 49/300\n",
      "37/37 [==============================] - 0s 2ms/step - loss: 77586352.0000 - val_loss: 79091104.0000\n",
      "Epoch 50/300\n",
      "37/37 [==============================] - 0s 2ms/step - loss: 77191808.0000 - val_loss: 78660272.0000\n",
      "Epoch 51/300\n",
      "37/37 [==============================] - 0s 3ms/step - loss: 76788376.0000 - val_loss: 78302304.0000\n",
      "Epoch 52/300\n",
      "37/37 [==============================] - 0s 2ms/step - loss: 76399032.0000 - val_loss: 77891960.0000\n",
      "Epoch 53/300\n",
      "37/37 [==============================] - 0s 3ms/step - loss: 76003504.0000 - val_loss: 77530808.0000\n",
      "Epoch 54/300\n",
      "37/37 [==============================] - 0s 6ms/step - loss: 75590208.0000 - val_loss: 77108400.0000\n",
      "Epoch 55/300\n",
      "37/37 [==============================] - 0s 6ms/step - loss: 75209656.0000 - val_loss: 76712592.0000\n",
      "Epoch 56/300\n",
      "37/37 [==============================] - 0s 6ms/step - loss: 74809456.0000 - val_loss: 76293560.0000\n",
      "Epoch 57/300\n",
      "37/37 [==============================] - 0s 5ms/step - loss: 74407712.0000 - val_loss: 75944248.0000\n",
      "Epoch 58/300\n",
      "37/37 [==============================] - 0s 5ms/step - loss: 74003096.0000 - val_loss: 75504552.0000\n",
      "Epoch 59/300\n",
      "37/37 [==============================] - 0s 5ms/step - loss: 73584992.0000 - val_loss: 75087888.0000\n",
      "Epoch 60/300\n",
      "37/37 [==============================] - 0s 5ms/step - loss: 73164120.0000 - val_loss: 74721856.0000\n",
      "Epoch 61/300\n",
      "37/37 [==============================] - 0s 4ms/step - loss: 72774272.0000 - val_loss: 74319760.0000\n",
      "Epoch 62/300\n",
      "37/37 [==============================] - 0s 4ms/step - loss: 72345576.0000 - val_loss: 73898088.0000\n",
      "Epoch 63/300\n",
      "37/37 [==============================] - 0s 4ms/step - loss: 71942504.0000 - val_loss: 73487376.0000\n",
      "Epoch 64/300\n",
      "37/37 [==============================] - 0s 4ms/step - loss: 71519184.0000 - val_loss: 73078664.0000\n",
      "Epoch 65/300\n",
      "37/37 [==============================] - 0s 4ms/step - loss: 71096456.0000 - val_loss: 72633536.0000\n",
      "Epoch 66/300\n",
      "37/37 [==============================] - 0s 4ms/step - loss: 70673160.0000 - val_loss: 72238064.0000\n",
      "Epoch 67/300\n",
      "37/37 [==============================] - 0s 4ms/step - loss: 70249152.0000 - val_loss: 71815688.0000\n",
      "Epoch 68/300\n",
      "37/37 [==============================] - 0s 4ms/step - loss: 69833112.0000 - val_loss: 71401584.0000\n",
      "Epoch 69/300\n",
      "37/37 [==============================] - 0s 4ms/step - loss: 69389144.0000 - val_loss: 70940464.0000\n",
      "Epoch 70/300\n",
      "37/37 [==============================] - 0s 4ms/step - loss: 68957992.0000 - val_loss: 70521648.0000\n",
      "Epoch 71/300\n",
      "37/37 [==============================] - 0s 4ms/step - loss: 68512848.0000 - val_loss: 70092328.0000\n",
      "Epoch 72/300\n",
      "37/37 [==============================] - 0s 4ms/step - loss: 68072872.0000 - val_loss: 69652304.0000\n",
      "Epoch 73/300\n",
      "37/37 [==============================] - 0s 4ms/step - loss: 67628264.0000 - val_loss: 69196600.0000\n",
      "Epoch 74/300\n",
      "37/37 [==============================] - 0s 4ms/step - loss: 67179640.0000 - val_loss: 68775840.0000\n",
      "Epoch 75/300\n",
      "37/37 [==============================] - 0s 4ms/step - loss: 66740292.0000 - val_loss: 68323400.0000\n",
      "Epoch 76/300\n",
      "37/37 [==============================] - 0s 3ms/step - loss: 66266384.0000 - val_loss: 67855208.0000\n",
      "Epoch 77/300\n",
      "37/37 [==============================] - 0s 3ms/step - loss: 65819916.0000 - val_loss: 67397808.0000\n",
      "Epoch 78/300\n",
      "37/37 [==============================] - 0s 4ms/step - loss: 65344748.0000 - val_loss: 66941048.0000\n",
      "Epoch 79/300\n",
      "37/37 [==============================] - 0s 4ms/step - loss: 64862392.0000 - val_loss: 66460632.0000\n",
      "Epoch 80/300\n",
      "37/37 [==============================] - 0s 4ms/step - loss: 64386836.0000 - val_loss: 65984448.0000\n",
      "Epoch 81/300\n",
      "37/37 [==============================] - 0s 3ms/step - loss: 63903216.0000 - val_loss: 65492908.0000\n",
      "Epoch 82/300\n",
      "37/37 [==============================] - 0s 3ms/step - loss: 63404364.0000 - val_loss: 65012432.0000\n",
      "Epoch 83/300\n",
      "37/37 [==============================] - 0s 3ms/step - loss: 62907508.0000 - val_loss: 64506636.0000\n",
      "Epoch 84/300\n",
      "37/37 [==============================] - 0s 4ms/step - loss: 62402404.0000 - val_loss: 63993612.0000\n",
      "Epoch 85/300\n",
      "37/37 [==============================] - 0s 4ms/step - loss: 61898600.0000 - val_loss: 63479292.0000\n",
      "Epoch 86/300\n",
      "37/37 [==============================] - 0s 4ms/step - loss: 61392884.0000 - val_loss: 62991448.0000\n",
      "Epoch 87/300\n",
      "37/37 [==============================] - 0s 4ms/step - loss: 60843780.0000 - val_loss: 62439212.0000\n",
      "Epoch 88/300\n",
      "37/37 [==============================] - 0s 4ms/step - loss: 60321564.0000 - val_loss: 61917168.0000\n",
      "Epoch 89/300\n",
      "37/37 [==============================] - 0s 3ms/step - loss: 59766992.0000 - val_loss: 61354712.0000\n",
      "Epoch 90/300\n",
      "37/37 [==============================] - 0s 3ms/step - loss: 59217068.0000 - val_loss: 60819432.0000\n",
      "Epoch 91/300\n",
      "37/37 [==============================] - 0s 4ms/step - loss: 58662120.0000 - val_loss: 60253952.0000\n",
      "Epoch 92/300\n",
      "37/37 [==============================] - 0s 4ms/step - loss: 58104048.0000 - val_loss: 59696240.0000\n",
      "Epoch 93/300\n",
      "37/37 [==============================] - 0s 4ms/step - loss: 57534668.0000 - val_loss: 59107980.0000\n",
      "Epoch 94/300\n",
      "37/37 [==============================] - 0s 5ms/step - loss: 56940860.0000 - val_loss: 58520036.0000\n",
      "Epoch 95/300\n",
      "37/37 [==============================] - 0s 4ms/step - loss: 56333624.0000 - val_loss: 57899188.0000\n",
      "Epoch 96/300\n",
      "37/37 [==============================] - 0s 4ms/step - loss: 55726600.0000 - val_loss: 57284768.0000\n",
      "Epoch 97/300\n",
      "37/37 [==============================] - 0s 4ms/step - loss: 55120176.0000 - val_loss: 56658808.0000\n",
      "Epoch 98/300\n",
      "37/37 [==============================] - 0s 4ms/step - loss: 54484000.0000 - val_loss: 56020520.0000\n",
      "Epoch 99/300\n",
      "37/37 [==============================] - 0s 5ms/step - loss: 53854812.0000 - val_loss: 55371820.0000\n",
      "Epoch 100/300\n",
      "37/37 [==============================] - 0s 6ms/step - loss: 53183596.0000 - val_loss: 54713376.0000\n",
      "Epoch 101/300\n",
      "37/37 [==============================] - 0s 4ms/step - loss: 52526540.0000 - val_loss: 54038972.0000\n",
      "Epoch 102/300\n",
      "37/37 [==============================] - 0s 3ms/step - loss: 51859304.0000 - val_loss: 53358520.0000\n",
      "Epoch 103/300\n",
      "37/37 [==============================] - 0s 3ms/step - loss: 51181228.0000 - val_loss: 52695056.0000\n",
      "Epoch 104/300\n",
      "37/37 [==============================] - 0s 3ms/step - loss: 50507232.0000 - val_loss: 51966036.0000\n",
      "Epoch 105/300\n",
      "37/37 [==============================] - 0s 3ms/step - loss: 49795880.0000 - val_loss: 51272708.0000\n",
      "Epoch 106/300\n",
      "37/37 [==============================] - 0s 3ms/step - loss: 49089380.0000 - val_loss: 50545236.0000\n",
      "Epoch 107/300\n",
      "37/37 [==============================] - 0s 3ms/step - loss: 48407068.0000 - val_loss: 49796872.0000\n",
      "Epoch 108/300\n",
      "37/37 [==============================] - 0s 3ms/step - loss: 47641828.0000 - val_loss: 49062196.0000\n",
      "Epoch 109/300\n",
      "37/37 [==============================] - 0s 3ms/step - loss: 46916424.0000 - val_loss: 48333616.0000\n",
      "Epoch 110/300\n",
      "37/37 [==============================] - 0s 3ms/step - loss: 46177756.0000 - val_loss: 47564456.0000\n",
      "Epoch 111/300\n",
      "37/37 [==============================] - 0s 3ms/step - loss: 45447176.0000 - val_loss: 46784644.0000\n",
      "Epoch 112/300\n",
      "37/37 [==============================] - 0s 3ms/step - loss: 44689684.0000 - val_loss: 46026296.0000\n",
      "Epoch 113/300\n",
      "37/37 [==============================] - 0s 3ms/step - loss: 43929808.0000 - val_loss: 45254352.0000\n",
      "Epoch 114/300\n",
      "37/37 [==============================] - 0s 3ms/step - loss: 43196484.0000 - val_loss: 44475508.0000\n",
      "Epoch 115/300\n",
      "37/37 [==============================] - 0s 3ms/step - loss: 42431492.0000 - val_loss: 43698256.0000\n",
      "Epoch 116/300\n",
      "37/37 [==============================] - 0s 3ms/step - loss: 41717292.0000 - val_loss: 42913416.0000\n",
      "Epoch 117/300\n",
      "37/37 [==============================] - 0s 4ms/step - loss: 40915764.0000 - val_loss: 42134360.0000\n",
      "Epoch 118/300\n",
      "37/37 [==============================] - 0s 5ms/step - loss: 40195816.0000 - val_loss: 41373552.0000\n",
      "Epoch 119/300\n",
      "37/37 [==============================] - 0s 5ms/step - loss: 39464464.0000 - val_loss: 40619268.0000\n",
      "Epoch 120/300\n",
      "37/37 [==============================] - 0s 7ms/step - loss: 38773248.0000 - val_loss: 39912308.0000\n",
      "Epoch 121/300\n",
      "37/37 [==============================] - 0s 3ms/step - loss: 38070796.0000 - val_loss: 39175532.0000\n",
      "Epoch 122/300\n",
      "37/37 [==============================] - 0s 3ms/step - loss: 37405232.0000 - val_loss: 38456528.0000\n",
      "Epoch 123/300\n",
      "37/37 [==============================] - 0s 4ms/step - loss: 36723008.0000 - val_loss: 37738420.0000\n",
      "Epoch 124/300\n",
      "37/37 [==============================] - 0s 4ms/step - loss: 36017080.0000 - val_loss: 37059268.0000\n",
      "Epoch 125/300\n",
      "37/37 [==============================] - 0s 7ms/step - loss: 35383880.0000 - val_loss: 36396160.0000\n",
      "Epoch 126/300\n",
      "37/37 [==============================] - 0s 6ms/step - loss: 34764716.0000 - val_loss: 35749012.0000\n",
      "Epoch 127/300\n",
      "37/37 [==============================] - 0s 5ms/step - loss: 34148796.0000 - val_loss: 35122452.0000\n",
      "Epoch 128/300\n",
      "37/37 [==============================] - 0s 3ms/step - loss: 33602760.0000 - val_loss: 34535092.0000\n",
      "Epoch 129/300\n",
      "37/37 [==============================] - 0s 3ms/step - loss: 33042524.0000 - val_loss: 33969312.0000\n",
      "Epoch 130/300\n",
      "37/37 [==============================] - 0s 3ms/step - loss: 32528040.0000 - val_loss: 33442326.0000\n",
      "Epoch 131/300\n",
      "37/37 [==============================] - 0s 3ms/step - loss: 32054188.0000 - val_loss: 32938510.0000\n",
      "Epoch 132/300\n",
      "37/37 [==============================] - 0s 4ms/step - loss: 31612224.0000 - val_loss: 32472248.0000\n",
      "Epoch 133/300\n",
      "37/37 [==============================] - 0s 4ms/step - loss: 31139834.0000 - val_loss: 32016960.0000\n",
      "Epoch 134/300\n",
      "37/37 [==============================] - 0s 4ms/step - loss: 30706672.0000 - val_loss: 31565648.0000\n",
      "Epoch 135/300\n",
      "37/37 [==============================] - 0s 3ms/step - loss: 30264312.0000 - val_loss: 31121962.0000\n",
      "Epoch 136/300\n",
      "37/37 [==============================] - 0s 3ms/step - loss: 29847206.0000 - val_loss: 30680432.0000\n",
      "Epoch 137/300\n",
      "37/37 [==============================] - 0s 3ms/step - loss: 29435762.0000 - val_loss: 30263176.0000\n",
      "Epoch 138/300\n",
      "37/37 [==============================] - 0s 3ms/step - loss: 29029758.0000 - val_loss: 29855650.0000\n",
      "Epoch 139/300\n",
      "37/37 [==============================] - 0s 3ms/step - loss: 28626402.0000 - val_loss: 29522774.0000\n",
      "Epoch 140/300\n",
      "37/37 [==============================] - 0s 3ms/step - loss: 28307840.0000 - val_loss: 29092690.0000\n",
      "Epoch 141/300\n",
      "37/37 [==============================] - 0s 3ms/step - loss: 27908712.0000 - val_loss: 28742956.0000\n",
      "Epoch 142/300\n",
      "37/37 [==============================] - 0s 3ms/step - loss: 27588980.0000 - val_loss: 28425826.0000\n",
      "Epoch 143/300\n"
     ]
    },
    {
     "name": "stdout",
     "output_type": "stream",
     "text": [
      "37/37 [==============================] - 0s 3ms/step - loss: 27310346.0000 - val_loss: 28129932.0000\n",
      "Epoch 144/300\n",
      "37/37 [==============================] - 0s 3ms/step - loss: 26937440.0000 - val_loss: 27808958.0000\n",
      "Epoch 145/300\n",
      "37/37 [==============================] - 0s 3ms/step - loss: 26618992.0000 - val_loss: 27514278.0000\n",
      "Epoch 146/300\n",
      "37/37 [==============================] - 0s 3ms/step - loss: 26356786.0000 - val_loss: 27256782.0000\n",
      "Epoch 147/300\n",
      "37/37 [==============================] - 0s 6ms/step - loss: 26106304.0000 - val_loss: 26992818.0000\n",
      "Epoch 148/300\n",
      "37/37 [==============================] - 0s 6ms/step - loss: 25865412.0000 - val_loss: 26725720.0000\n",
      "Epoch 149/300\n",
      "37/37 [==============================] - 0s 6ms/step - loss: 25612582.0000 - val_loss: 26524918.0000\n",
      "Epoch 150/300\n",
      "37/37 [==============================] - 0s 6ms/step - loss: 25376970.0000 - val_loss: 26253878.0000\n",
      "Epoch 151/300\n",
      "37/37 [==============================] - 0s 5ms/step - loss: 25127970.0000 - val_loss: 26052508.0000\n",
      "Epoch 152/300\n",
      "37/37 [==============================] - 0s 5ms/step - loss: 24924306.0000 - val_loss: 25860720.0000\n",
      "Epoch 153/300\n",
      "37/37 [==============================] - 0s 5ms/step - loss: 24697680.0000 - val_loss: 25595672.0000\n",
      "Epoch 154/300\n",
      "37/37 [==============================] - 0s 5ms/step - loss: 24472726.0000 - val_loss: 25395588.0000\n",
      "Epoch 155/300\n",
      "37/37 [==============================] - 0s 5ms/step - loss: 24278232.0000 - val_loss: 25194000.0000\n",
      "Epoch 156/300\n",
      "37/37 [==============================] - 0s 5ms/step - loss: 24069474.0000 - val_loss: 25015238.0000\n",
      "Epoch 157/300\n",
      "37/37 [==============================] - 0s 5ms/step - loss: 23885430.0000 - val_loss: 24844850.0000\n",
      "Epoch 158/300\n",
      "37/37 [==============================] - 0s 5ms/step - loss: 23750010.0000 - val_loss: 24721534.0000\n",
      "Epoch 159/300\n",
      "37/37 [==============================] - 0s 5ms/step - loss: 23545746.0000 - val_loss: 24531716.0000\n",
      "Epoch 160/300\n",
      "37/37 [==============================] - 0s 5ms/step - loss: 23396510.0000 - val_loss: 24364706.0000\n",
      "Epoch 161/300\n",
      "37/37 [==============================] - 0s 5ms/step - loss: 23280248.0000 - val_loss: 24230746.0000\n",
      "Epoch 162/300\n",
      "37/37 [==============================] - 0s 5ms/step - loss: 23102060.0000 - val_loss: 24086418.0000\n",
      "Epoch 163/300\n",
      "37/37 [==============================] - 0s 5ms/step - loss: 22930376.0000 - val_loss: 23954236.0000\n",
      "Epoch 164/300\n",
      "37/37 [==============================] - 0s 5ms/step - loss: 22792732.0000 - val_loss: 23828158.0000\n",
      "Epoch 165/300\n",
      "37/37 [==============================] - 0s 5ms/step - loss: 22661834.0000 - val_loss: 23715100.0000\n",
      "Epoch 166/300\n",
      "37/37 [==============================] - 0s 4ms/step - loss: 22548932.0000 - val_loss: 23601018.0000\n",
      "Epoch 167/300\n",
      "37/37 [==============================] - 0s 5ms/step - loss: 22439302.0000 - val_loss: 23538104.0000\n",
      "Epoch 168/300\n",
      "37/37 [==============================] - 0s 4ms/step - loss: 22318338.0000 - val_loss: 23405352.0000\n",
      "Epoch 169/300\n",
      "37/37 [==============================] - 0s 4ms/step - loss: 22229620.0000 - val_loss: 23316348.0000\n",
      "Epoch 170/300\n",
      "37/37 [==============================] - 0s 4ms/step - loss: 22112642.0000 - val_loss: 23226444.0000\n",
      "Epoch 171/300\n",
      "37/37 [==============================] - 0s 4ms/step - loss: 22023322.0000 - val_loss: 23142920.0000\n",
      "Epoch 172/300\n",
      "37/37 [==============================] - 0s 5ms/step - loss: 21945186.0000 - val_loss: 23134404.0000\n",
      "Epoch 173/300\n",
      "37/37 [==============================] - 0s 4ms/step - loss: 21887760.0000 - val_loss: 23004806.0000\n",
      "Epoch 174/300\n",
      "37/37 [==============================] - 0s 4ms/step - loss: 21786816.0000 - val_loss: 22938914.0000\n",
      "Epoch 175/300\n",
      "37/37 [==============================] - 0s 4ms/step - loss: 21710008.0000 - val_loss: 22898194.0000\n",
      "Epoch 176/300\n",
      "37/37 [==============================] - 0s 4ms/step - loss: 21646374.0000 - val_loss: 22819178.0000\n",
      "Epoch 177/300\n",
      "37/37 [==============================] - 0s 4ms/step - loss: 21597358.0000 - val_loss: 22765652.0000\n",
      "Epoch 178/300\n",
      "37/37 [==============================] - 0s 4ms/step - loss: 21514834.0000 - val_loss: 22731570.0000\n",
      "Epoch 179/300\n",
      "37/37 [==============================] - 0s 4ms/step - loss: 21479442.0000 - val_loss: 22669210.0000\n",
      "Epoch 180/300\n",
      "37/37 [==============================] - 0s 4ms/step - loss: 21428238.0000 - val_loss: 22621030.0000\n",
      "Epoch 181/300\n",
      "37/37 [==============================] - 0s 4ms/step - loss: 21360788.0000 - val_loss: 22581770.0000\n",
      "Epoch 182/300\n",
      "37/37 [==============================] - 0s 4ms/step - loss: 21320572.0000 - val_loss: 22540804.0000\n",
      "Epoch 183/300\n",
      "37/37 [==============================] - 0s 4ms/step - loss: 21265484.0000 - val_loss: 22507408.0000\n",
      "Epoch 184/300\n",
      "37/37 [==============================] - 0s 4ms/step - loss: 21219910.0000 - val_loss: 22462844.0000\n",
      "Epoch 185/300\n",
      "37/37 [==============================] - 0s 4ms/step - loss: 21169528.0000 - val_loss: 22423402.0000\n",
      "Epoch 186/300\n",
      "37/37 [==============================] - 0s 4ms/step - loss: 21131320.0000 - val_loss: 22398806.0000\n",
      "Epoch 187/300\n",
      "37/37 [==============================] - 0s 4ms/step - loss: 21096142.0000 - val_loss: 22375612.0000\n",
      "Epoch 188/300\n",
      "37/37 [==============================] - 0s 4ms/step - loss: 21073496.0000 - val_loss: 22321880.0000\n",
      "Epoch 189/300\n",
      "37/37 [==============================] - 0s 4ms/step - loss: 21008942.0000 - val_loss: 22309366.0000\n",
      "Epoch 190/300\n",
      "37/37 [==============================] - 0s 4ms/step - loss: 20972014.0000 - val_loss: 22261048.0000\n",
      "Epoch 191/300\n",
      "37/37 [==============================] - 0s 4ms/step - loss: 20937482.0000 - val_loss: 22291408.0000\n",
      "Epoch 192/300\n",
      "37/37 [==============================] - 0s 4ms/step - loss: 20937014.0000 - val_loss: 22206376.0000\n",
      "Epoch 193/300\n",
      "37/37 [==============================] - 0s 6ms/step - loss: 20865538.0000 - val_loss: 22172744.0000\n",
      "Epoch 194/300\n",
      "37/37 [==============================] - 0s 6ms/step - loss: 20821094.0000 - val_loss: 22155276.0000\n",
      "Epoch 195/300\n",
      "37/37 [==============================] - 0s 6ms/step - loss: 20814210.0000 - val_loss: 22146008.0000\n",
      "Epoch 196/300\n",
      "37/37 [==============================] - 0s 6ms/step - loss: 20787912.0000 - val_loss: 22109544.0000\n",
      "Epoch 197/300\n",
      "37/37 [==============================] - 0s 5ms/step - loss: 20760598.0000 - val_loss: 22087894.0000\n",
      "Epoch 198/300\n",
      "37/37 [==============================] - 0s 3ms/step - loss: 20712756.0000 - val_loss: 22045934.0000\n",
      "Epoch 199/300\n",
      "37/37 [==============================] - 0s 3ms/step - loss: 20674870.0000 - val_loss: 22019516.0000\n",
      "Epoch 200/300\n",
      "37/37 [==============================] - 0s 4ms/step - loss: 20677346.0000 - val_loss: 21987498.0000\n",
      "Epoch 201/300\n",
      "37/37 [==============================] - 0s 4ms/step - loss: 20621174.0000 - val_loss: 21965716.0000\n",
      "Epoch 202/300\n",
      "37/37 [==============================] - 0s 5ms/step - loss: 20595784.0000 - val_loss: 21943568.0000\n",
      "Epoch 203/300\n",
      "37/37 [==============================] - 0s 5ms/step - loss: 20556978.0000 - val_loss: 21911608.0000\n",
      "Epoch 204/300\n",
      "37/37 [==============================] - 0s 6ms/step - loss: 20538006.0000 - val_loss: 21884170.0000\n",
      "Epoch 205/300\n",
      "37/37 [==============================] - 0s 6ms/step - loss: 20521402.0000 - val_loss: 21895542.0000\n",
      "Epoch 206/300\n",
      "37/37 [==============================] - 0s 5ms/step - loss: 20481410.0000 - val_loss: 21856868.0000\n",
      "Epoch 207/300\n",
      "37/37 [==============================] - 0s 5ms/step - loss: 20452026.0000 - val_loss: 21828618.0000\n",
      "Epoch 208/300\n",
      "37/37 [==============================] - 0s 5ms/step - loss: 20464976.0000 - val_loss: 21807694.0000\n",
      "Epoch 209/300\n",
      "37/37 [==============================] - 0s 5ms/step - loss: 20448282.0000 - val_loss: 21806972.0000\n",
      "Epoch 210/300\n",
      "37/37 [==============================] - 0s 5ms/step - loss: 20405430.0000 - val_loss: 21768312.0000\n",
      "Epoch 211/300\n",
      "37/37 [==============================] - 0s 5ms/step - loss: 20365718.0000 - val_loss: 21754178.0000\n",
      "Epoch 212/300\n",
      "37/37 [==============================] - 0s 5ms/step - loss: 20332124.0000 - val_loss: 21786496.0000\n",
      "Epoch 213/300\n",
      "37/37 [==============================] - 0s 5ms/step - loss: 20343492.0000 - val_loss: 21722162.0000\n",
      "Epoch 214/300\n",
      "37/37 [==============================] - 0s 6ms/step - loss: 20319344.0000 - val_loss: 21763098.0000\n",
      "Epoch 215/300\n",
      "37/37 [==============================] - 0s 6ms/step - loss: 20290904.0000 - val_loss: 21726888.0000\n",
      "Epoch 216/300\n",
      "37/37 [==============================] - 0s 2ms/step - loss: 20262778.0000 - val_loss: 21677196.0000\n",
      "Epoch 217/300\n",
      "37/37 [==============================] - 0s 2ms/step - loss: 20237256.0000 - val_loss: 21659384.0000\n",
      "Epoch 218/300\n",
      "37/37 [==============================] - 0s 3ms/step - loss: 20212546.0000 - val_loss: 21642170.0000\n",
      "Epoch 219/300\n",
      "37/37 [==============================] - 0s 3ms/step - loss: 20194062.0000 - val_loss: 21625466.0000\n",
      "Epoch 220/300\n",
      "37/37 [==============================] - 0s 3ms/step - loss: 20181040.0000 - val_loss: 21618958.0000\n",
      "Epoch 221/300\n",
      "37/37 [==============================] - 0s 2ms/step - loss: 20180062.0000 - val_loss: 21602410.0000\n",
      "Epoch 222/300\n",
      "37/37 [==============================] - 0s 3ms/step - loss: 20143072.0000 - val_loss: 21601696.0000\n",
      "Epoch 223/300\n",
      "37/37 [==============================] - 0s 4ms/step - loss: 20137680.0000 - val_loss: 21559518.0000\n",
      "Epoch 224/300\n",
      "37/37 [==============================] - 0s 5ms/step - loss: 20099554.0000 - val_loss: 21541802.0000\n",
      "Epoch 225/300\n",
      "37/37 [==============================] - 0s 3ms/step - loss: 20076838.0000 - val_loss: 21536016.0000\n",
      "Epoch 226/300\n",
      "37/37 [==============================] - 0s 3ms/step - loss: 20074240.0000 - val_loss: 21510916.0000\n",
      "Epoch 227/300\n",
      "37/37 [==============================] - 0s 5ms/step - loss: 20060384.0000 - val_loss: 21498926.0000\n",
      "Epoch 228/300\n",
      "37/37 [==============================] - 0s 3ms/step - loss: 20027304.0000 - val_loss: 21498884.0000\n",
      "Epoch 229/300\n",
      "37/37 [==============================] - 0s 3ms/step - loss: 20001372.0000 - val_loss: 21484698.0000\n",
      "Epoch 230/300\n",
      "37/37 [==============================] - 0s 3ms/step - loss: 19984450.0000 - val_loss: 21470630.0000\n",
      "Epoch 231/300\n",
      "37/37 [==============================] - 0s 3ms/step - loss: 19979002.0000 - val_loss: 21441544.0000\n",
      "Epoch 232/300\n",
      "37/37 [==============================] - 0s 3ms/step - loss: 19962270.0000 - val_loss: 21523614.0000\n",
      "Epoch 233/300\n",
      "37/37 [==============================] - 0s 3ms/step - loss: 19933864.0000 - val_loss: 21421588.0000\n",
      "Epoch 234/300\n",
      "37/37 [==============================] - 0s 3ms/step - loss: 19921822.0000 - val_loss: 21413366.0000\n",
      "Epoch 235/300\n",
      "37/37 [==============================] - 0s 3ms/step - loss: 19976452.0000 - val_loss: 21381042.0000\n",
      "Epoch 236/300\n",
      "37/37 [==============================] - 0s 3ms/step - loss: 19894620.0000 - val_loss: 21377886.0000\n",
      "Epoch 237/300\n",
      "37/37 [==============================] - 0s 3ms/step - loss: 19876808.0000 - val_loss: 21352750.0000\n",
      "Epoch 238/300\n",
      "37/37 [==============================] - 0s 3ms/step - loss: 19860752.0000 - val_loss: 21335092.0000\n",
      "Epoch 239/300\n",
      "37/37 [==============================] - 0s 2ms/step - loss: 19834424.0000 - val_loss: 21361206.0000\n",
      "Epoch 240/300\n",
      "37/37 [==============================] - 0s 2ms/step - loss: 19853930.0000 - val_loss: 21320924.0000\n",
      "Epoch 241/300\n",
      "37/37 [==============================] - 0s 2ms/step - loss: 19812786.0000 - val_loss: 21315054.0000\n",
      "Epoch 242/300\n",
      "37/37 [==============================] - 0s 3ms/step - loss: 19803834.0000 - val_loss: 21285460.0000\n",
      "Epoch 243/300\n",
      "37/37 [==============================] - 0s 4ms/step - loss: 19796182.0000 - val_loss: 21260614.0000\n",
      "Epoch 244/300\n",
      "37/37 [==============================] - 0s 4ms/step - loss: 19791940.0000 - val_loss: 21258208.0000\n",
      "Epoch 245/300\n",
      "37/37 [==============================] - 0s 4ms/step - loss: 19753218.0000 - val_loss: 21230716.0000\n",
      "Epoch 246/300\n",
      "37/37 [==============================] - 0s 3ms/step - loss: 19735176.0000 - val_loss: 21224062.0000\n",
      "Epoch 247/300\n",
      "37/37 [==============================] - 0s 3ms/step - loss: 19716986.0000 - val_loss: 21196756.0000\n",
      "Epoch 248/300\n",
      "37/37 [==============================] - 0s 3ms/step - loss: 19728078.0000 - val_loss: 21174892.0000\n",
      "Epoch 249/300\n",
      "37/37 [==============================] - 0s 3ms/step - loss: 19693864.0000 - val_loss: 21172402.0000\n",
      "Epoch 250/300\n",
      "37/37 [==============================] - 0s 3ms/step - loss: 19663272.0000 - val_loss: 21163880.0000\n",
      "Epoch 251/300\n",
      "37/37 [==============================] - 0s 3ms/step - loss: 19689112.0000 - val_loss: 21147078.0000\n",
      "Epoch 252/300\n",
      "37/37 [==============================] - 0s 3ms/step - loss: 19649562.0000 - val_loss: 21107282.0000\n",
      "Epoch 253/300\n",
      "37/37 [==============================] - 0s 3ms/step - loss: 19626320.0000 - val_loss: 21092062.0000\n",
      "Epoch 254/300\n",
      "37/37 [==============================] - 0s 3ms/step - loss: 19644514.0000 - val_loss: 21117322.0000\n",
      "Epoch 255/300\n",
      "37/37 [==============================] - 0s 3ms/step - loss: 19595052.0000 - val_loss: 21111000.0000\n",
      "Epoch 256/300\n",
      "37/37 [==============================] - 0s 3ms/step - loss: 19624678.0000 - val_loss: 21057398.0000\n",
      "Epoch 257/300\n",
      "37/37 [==============================] - 0s 3ms/step - loss: 19589670.0000 - val_loss: 21078548.0000\n",
      "Epoch 258/300\n",
      "37/37 [==============================] - 0s 3ms/step - loss: 19572396.0000 - val_loss: 21055146.0000\n",
      "Epoch 259/300\n",
      "37/37 [==============================] - 0s 3ms/step - loss: 19579054.0000 - val_loss: 21026844.0000\n",
      "Epoch 260/300\n",
      "37/37 [==============================] - 0s 3ms/step - loss: 19548560.0000 - val_loss: 21010794.0000\n",
      "Epoch 261/300\n",
      "37/37 [==============================] - 0s 3ms/step - loss: 19528288.0000 - val_loss: 21007888.0000\n",
      "Epoch 262/300\n",
      "37/37 [==============================] - 0s 3ms/step - loss: 19522538.0000 - val_loss: 21051540.0000\n",
      "Epoch 263/300\n",
      "37/37 [==============================] - 0s 3ms/step - loss: 19526018.0000 - val_loss: 20987510.0000\n",
      "Epoch 264/300\n",
      "37/37 [==============================] - 0s 3ms/step - loss: 19513718.0000 - val_loss: 20976294.0000\n",
      "Epoch 265/300\n",
      "37/37 [==============================] - 0s 3ms/step - loss: 19531530.0000 - val_loss: 20966090.0000\n",
      "Epoch 266/300\n",
      "37/37 [==============================] - 0s 3ms/step - loss: 19477024.0000 - val_loss: 20988230.0000\n",
      "Epoch 267/300\n",
      "37/37 [==============================] - 0s 3ms/step - loss: 19478348.0000 - val_loss: 20947028.0000\n",
      "Epoch 268/300\n",
      "37/37 [==============================] - 0s 3ms/step - loss: 19464144.0000 - val_loss: 20938626.0000\n",
      "Epoch 269/300\n",
      "37/37 [==============================] - 0s 3ms/step - loss: 19446712.0000 - val_loss: 20928702.0000\n",
      "Epoch 270/300\n",
      "37/37 [==============================] - 0s 3ms/step - loss: 19451714.0000 - val_loss: 20960822.0000\n",
      "Epoch 271/300\n",
      "37/37 [==============================] - 0s 3ms/step - loss: 19444184.0000 - val_loss: 20911116.0000\n",
      "Epoch 272/300\n",
      "37/37 [==============================] - 0s 3ms/step - loss: 19431670.0000 - val_loss: 20891048.0000\n",
      "Epoch 273/300\n",
      "37/37 [==============================] - 0s 3ms/step - loss: 19413306.0000 - val_loss: 20941424.0000\n",
      "Epoch 274/300\n",
      "37/37 [==============================] - 0s 5ms/step - loss: 19430812.0000 - val_loss: 20872874.0000\n",
      "Epoch 275/300\n",
      "37/37 [==============================] - 0s 3ms/step - loss: 19387154.0000 - val_loss: 20865722.0000\n",
      "Epoch 276/300\n",
      "37/37 [==============================] - 0s 3ms/step - loss: 19385310.0000 - val_loss: 20871158.0000\n",
      "Epoch 277/300\n",
      "37/37 [==============================] - 0s 3ms/step - loss: 19413764.0000 - val_loss: 20858224.0000\n",
      "Epoch 278/300\n",
      "37/37 [==============================] - 0s 3ms/step - loss: 19369100.0000 - val_loss: 20846954.0000\n",
      "Epoch 279/300\n",
      "37/37 [==============================] - 0s 5ms/step - loss: 19381872.0000 - val_loss: 20832558.0000\n",
      "Epoch 280/300\n",
      "37/37 [==============================] - 0s 6ms/step - loss: 19358812.0000 - val_loss: 20837776.0000\n",
      "Epoch 281/300\n",
      "37/37 [==============================] - 0s 5ms/step - loss: 19347442.0000 - val_loss: 20851180.0000\n",
      "Epoch 282/300\n",
      "37/37 [==============================] - 0s 6ms/step - loss: 19335366.0000 - val_loss: 20812412.0000\n",
      "Epoch 283/300\n",
      "37/37 [==============================] - 0s 6ms/step - loss: 19326250.0000 - val_loss: 20793094.0000\n",
      "Epoch 284/300\n",
      "37/37 [==============================] - 0s 5ms/step - loss: 19309788.0000 - val_loss: 20790074.0000\n",
      "Epoch 285/300\n"
     ]
    },
    {
     "name": "stdout",
     "output_type": "stream",
     "text": [
      "37/37 [==============================] - 0s 5ms/step - loss: 19315492.0000 - val_loss: 20797596.0000\n",
      "Epoch 286/300\n",
      "37/37 [==============================] - 0s 5ms/step - loss: 19310012.0000 - val_loss: 20768902.0000\n",
      "Epoch 287/300\n",
      "37/37 [==============================] - 0s 5ms/step - loss: 19354792.0000 - val_loss: 20791472.0000\n",
      "Epoch 288/300\n",
      "37/37 [==============================] - 0s 5ms/step - loss: 19283266.0000 - val_loss: 20754924.0000\n",
      "Epoch 289/300\n",
      "37/37 [==============================] - ETA: 0s - loss: 19588998.00 - 0s 5ms/step - loss: 19284250.0000 - val_loss: 20760418.0000\n",
      "Epoch 290/300\n",
      "37/37 [==============================] - 0s 4ms/step - loss: 19299106.0000 - val_loss: 20752186.0000\n",
      "Epoch 291/300\n",
      "37/37 [==============================] - 0s 5ms/step - loss: 19262208.0000 - val_loss: 20754532.0000\n",
      "Epoch 292/300\n",
      "37/37 [==============================] - 0s 4ms/step - loss: 19268286.0000 - val_loss: 20727506.0000\n",
      "Epoch 293/300\n",
      "37/37 [==============================] - 0s 4ms/step - loss: 19237160.0000 - val_loss: 20712660.0000\n",
      "Epoch 294/300\n",
      "37/37 [==============================] - 0s 4ms/step - loss: 19242176.0000 - val_loss: 20702524.0000\n",
      "Epoch 295/300\n",
      "37/37 [==============================] - 0s 4ms/step - loss: 19218450.0000 - val_loss: 20698800.0000\n",
      "Epoch 296/300\n",
      "37/37 [==============================] - 0s 4ms/step - loss: 19259034.0000 - val_loss: 20739926.0000\n",
      "Epoch 297/300\n",
      "37/37 [==============================] - 0s 4ms/step - loss: 19244404.0000 - val_loss: 20725680.0000\n",
      "Epoch 298/300\n",
      "37/37 [==============================] - 0s 4ms/step - loss: 19204490.0000 - val_loss: 20663844.0000\n",
      "Epoch 299/300\n",
      "37/37 [==============================] - 0s 4ms/step - loss: 19179988.0000 - val_loss: 20660030.0000\n",
      "Epoch 300/300\n",
      "37/37 [==============================] - 0s 4ms/step - loss: 19190270.0000 - val_loss: 20647412.0000\n"
     ]
    },
    {
     "data": {
      "text/plain": [
       "<tensorflow.python.keras.callbacks.History at 0x1c48598c1f0>"
      ]
     },
     "execution_count": 36,
     "metadata": {},
     "output_type": "execute_result"
    }
   ],
   "source": [
    "model.fit(x = x_train, y = y_train,validation_data=(x_test,y_test), batch_size=250, epochs = 300)"
   ]
  },
  {
   "cell_type": "code",
   "execution_count": 37,
   "metadata": {},
   "outputs": [],
   "source": [
    "kayipVerisi = pd.DataFrame(model.history.history)"
   ]
  },
  {
   "cell_type": "code",
   "execution_count": 38,
   "metadata": {},
   "outputs": [
    {
     "data": {
      "text/html": [
       "<div>\n",
       "<style scoped>\n",
       "    .dataframe tbody tr th:only-of-type {\n",
       "        vertical-align: middle;\n",
       "    }\n",
       "\n",
       "    .dataframe tbody tr th {\n",
       "        vertical-align: top;\n",
       "    }\n",
       "\n",
       "    .dataframe thead th {\n",
       "        text-align: right;\n",
       "    }\n",
       "</style>\n",
       "<table border=\"1\" class=\"dataframe\">\n",
       "  <thead>\n",
       "    <tr style=\"text-align: right;\">\n",
       "      <th></th>\n",
       "      <th>loss</th>\n",
       "      <th>val_loss</th>\n",
       "    </tr>\n",
       "  </thead>\n",
       "  <tbody>\n",
       "    <tr>\n",
       "      <th>0</th>\n",
       "      <td>672144384.0</td>\n",
       "      <td>688101248.0</td>\n",
       "    </tr>\n",
       "    <tr>\n",
       "      <th>1</th>\n",
       "      <td>672117632.0</td>\n",
       "      <td>688051392.0</td>\n",
       "    </tr>\n",
       "    <tr>\n",
       "      <th>2</th>\n",
       "      <td>672016000.0</td>\n",
       "      <td>687861376.0</td>\n",
       "    </tr>\n",
       "    <tr>\n",
       "      <th>3</th>\n",
       "      <td>671676736.0</td>\n",
       "      <td>687290752.0</td>\n",
       "    </tr>\n",
       "    <tr>\n",
       "      <th>4</th>\n",
       "      <td>670760384.0</td>\n",
       "      <td>685856192.0</td>\n",
       "    </tr>\n",
       "  </tbody>\n",
       "</table>\n",
       "</div>"
      ],
      "text/plain": [
       "          loss     val_loss\n",
       "0  672144384.0  688101248.0\n",
       "1  672117632.0  688051392.0\n",
       "2  672016000.0  687861376.0\n",
       "3  671676736.0  687290752.0\n",
       "4  670760384.0  685856192.0"
      ]
     },
     "execution_count": 38,
     "metadata": {},
     "output_type": "execute_result"
    }
   ],
   "source": [
    "kayipVerisi.head()"
   ]
  },
  {
   "cell_type": "code",
   "execution_count": 39,
   "metadata": {},
   "outputs": [
    {
     "data": {
      "text/plain": [
       "<AxesSubplot:>"
      ]
     },
     "execution_count": 39,
     "metadata": {},
     "output_type": "execute_result"
    },
    {
     "data": {
      "image/png": "[encoded data removed]",
      "text/plain": [
       "<Figure size 432x288 with 1 Axes>"
      ]
     },
     "metadata": {
      "needs_background": "light"
     },
     "output_type": "display_data"
    }
   ],
   "source": [
    "kayipVerisi.plot()"
   ]
  },
  {
   "cell_type": "code",
   "execution_count": 40,
   "metadata": {},
   "outputs": [],
   "source": [
    "tahminDizisi = model.predict(x_test)"
   ]
  },
  {
   "cell_type": "code",
   "execution_count": 41,
   "metadata": {},
   "outputs": [
    {
     "data": {
      "text/plain": [
       "array([[22116.102],\n",
       "       [23915.78 ],\n",
       "       [24936.94 ],\n",
       "       ...,\n",
       "       [26346.557],\n",
       "       [12420.825],\n",
       "       [24820.906]], dtype=float32)"
      ]
     },
     "execution_count": 41,
     "metadata": {},
     "output_type": "execute_result"
    }
   ],
   "source": [
    "tahminDizisi"
   ]
  },
  {
   "cell_type": "code",
   "execution_count": 42,
   "metadata": {},
   "outputs": [
    {
     "data": {
      "text/plain": [
       "array([20995, 19791, 27791, ..., 20999, 15000, 26799], dtype=int64)"
      ]
     },
     "execution_count": 42,
     "metadata": {},
     "output_type": "execute_result"
    }
   ],
   "source": [
    "y_test"
   ]
  },
  {
   "cell_type": "code",
   "execution_count": 43,
   "metadata": {
    "scrolled": true
   },
   "outputs": [
    {
     "data": {
      "text/plain": [
       "<matplotlib.collections.PathCollection at 0x1c487fabc70>"
      ]
     },
     "execution_count": 43,
     "metadata": {},
     "output_type": "execute_result"
    },
    {
     "data": {
      "image/png": "[encoded data removed]",
      "text/plain": [
       "<Figure size 432x288 with 1 Axes>"
      ]
     },
     "metadata": {
      "needs_background": "light"
     },
     "output_type": "display_data"
    }
   ],
   "source": [
    "plt.scatter(y_test,tahminDizisi)"
   ]
  },
  {
   "cell_type": "code",
   "execution_count": 70,
   "metadata": {},
   "outputs": [],
   "source": [
    "#TAHMİN\n",
    "yeniAraba = dataFrame.drop(\"price\",axis=1).iloc[2]"
   ]
  },
  {
   "cell_type": "code",
   "execution_count": 71,
   "metadata": {},
   "outputs": [
    {
     "data": {
      "text/plain": [
       "year          2020.0\n",
       "mileage       3999.0\n",
       "tax            145.0\n",
       "mpg             28.0\n",
       "engineSize       4.0\n",
       "Name: 3191, dtype: float64"
      ]
     },
     "execution_count": 71,
     "metadata": {},
     "output_type": "execute_result"
    }
   ],
   "source": [
    "yeniAraba"
   ]
  },
  {
   "cell_type": "code",
   "execution_count": 72,
   "metadata": {},
   "outputs": [],
   "source": [
    "yeniAraba = scaler.transform(yeniAraba.values.reshape(-1,5))"
   ]
  },
  {
   "cell_type": "code",
   "execution_count": 73,
   "metadata": {},
   "outputs": [
    {
     "data": {
      "text/plain": [
       "array([[62223.684]], dtype=float32)"
      ]
     },
     "execution_count": 73,
     "metadata": {},
     "output_type": "execute_result"
    }
   ],
   "source": [
    "model.predict(yeniAraba)"
   ]
  },
  {
   "cell_type": "code",
   "execution_count": 77,
   "metadata": {},
   "outputs": [
    {
     "data": {
      "text/plain": [
       "3221.7922292801854"
      ]
     },
     "execution_count": 77,
     "metadata": {},
     "output_type": "execute_result"
    }
   ],
   "source": [
    "from sklearn.metrics import mean_absolute_error\n",
    "mean_absolute_error(y_test,tahminDizisi)\n",
    "#Tahmin değeri 3221 oynayabilir. Kabul edilebilir olup olmaması problemden probleme değişebilir. "
   ]
  },
  {
   "cell_type": "code",
   "execution_count": null,
   "metadata": {},
   "outputs": [],
   "source": []
  }
 ],
 "metadata": {
  "kernelspec": {
   "display_name": "Python 3",
   "language": "python",
   "name": "python3"
  },
  "language_info": {
   "codemirror_mode": {
    "name": "ipython",
    "version": 3
   },
   "file_extension": ".py",
   "mimetype": "text/x-python",
   "name": "python",
   "nbconvert_exporter": "python",
   "pygments_lexer": "ipython3",
   "version": "3.8.5"
  }
 },
 "nbformat": 4,
 "nbformat_minor": 4
}
